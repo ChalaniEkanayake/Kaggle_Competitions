{
 "cells": [
  {
   "cell_type": "code",
   "execution_count": 1,
   "metadata": {
    "_cell_guid": "b1076dfc-b9ad-4769-8c92-a6c4dae69d19",
    "_uuid": "8f2839f25d086af736a60e9eeb907d3b93b6e0e5",
    "execution": {
     "iopub.execute_input": "2021-01-16T17:47:15.920666Z",
     "iopub.status.busy": "2021-01-16T17:47:15.919637Z",
     "iopub.status.idle": "2021-01-16T17:47:17.388350Z",
     "shell.execute_reply": "2021-01-16T17:47:17.387524Z"
    },
    "papermill": {
     "duration": 1.520427,
     "end_time": "2021-01-16T17:47:17.388475",
     "exception": false,
     "start_time": "2021-01-16T17:47:15.868048",
     "status": "completed"
    },
    "tags": []
   },
   "outputs": [],
   "source": [
    "import numpy as np\n",
    "import pandas as pd\n",
    "from sklearn import linear_model\n",
    "import matplotlib.pyplot as plt\n",
    "import seaborn as sns\n",
    "\n",
    "data = pd.read_csv('../input/titanic/train.csv')\n",
    "test = pd.read_csv('../input/titanic/test.csv')"
   ]
  },
  {
   "cell_type": "code",
   "execution_count": 2,
   "metadata": {
    "_cell_guid": "79c7e3d0-c299-4dcb-8224-4455121ee9b0",
    "_uuid": "d629ff2d2480ee46fbb7e2d37f6b5fab8052498a",
    "execution": {
     "iopub.execute_input": "2021-01-16T17:47:17.485311Z",
     "iopub.status.busy": "2021-01-16T17:47:17.484146Z",
     "iopub.status.idle": "2021-01-16T17:47:17.497704Z",
     "shell.execute_reply": "2021-01-16T17:47:17.497063Z"
    },
    "papermill": {
     "duration": 0.071281,
     "end_time": "2021-01-16T17:47:17.497814",
     "exception": false,
     "start_time": "2021-01-16T17:47:17.426533",
     "status": "completed"
    },
    "tags": []
   },
   "outputs": [
    {
     "data": {
      "text/html": [
       "<div>\n",
       "<style scoped>\n",
       "    .dataframe tbody tr th:only-of-type {\n",
       "        vertical-align: middle;\n",
       "    }\n",
       "\n",
       "    .dataframe tbody tr th {\n",
       "        vertical-align: top;\n",
       "    }\n",
       "\n",
       "    .dataframe thead th {\n",
       "        text-align: right;\n",
       "    }\n",
       "</style>\n",
       "<table border=\"1\" class=\"dataframe\">\n",
       "  <thead>\n",
       "    <tr style=\"text-align: right;\">\n",
       "      <th></th>\n",
       "      <th>PassengerId</th>\n",
       "      <th>Survived</th>\n",
       "      <th>Pclass</th>\n",
       "      <th>Name</th>\n",
       "      <th>Sex</th>\n",
       "      <th>Age</th>\n",
       "      <th>SibSp</th>\n",
       "      <th>Parch</th>\n",
       "      <th>Ticket</th>\n",
       "      <th>Fare</th>\n",
       "      <th>Cabin</th>\n",
       "      <th>Embarked</th>\n",
       "    </tr>\n",
       "  </thead>\n",
       "  <tbody>\n",
       "    <tr>\n",
       "      <th>0</th>\n",
       "      <td>1</td>\n",
       "      <td>0</td>\n",
       "      <td>3</td>\n",
       "      <td>Braund, Mr. Owen Harris</td>\n",
       "      <td>male</td>\n",
       "      <td>22.0</td>\n",
       "      <td>1</td>\n",
       "      <td>0</td>\n",
       "      <td>A/5 21171</td>\n",
       "      <td>7.2500</td>\n",
       "      <td>NaN</td>\n",
       "      <td>S</td>\n",
       "    </tr>\n",
       "    <tr>\n",
       "      <th>1</th>\n",
       "      <td>2</td>\n",
       "      <td>1</td>\n",
       "      <td>1</td>\n",
       "      <td>Cumings, Mrs. John Bradley (Florence Briggs Th...</td>\n",
       "      <td>female</td>\n",
       "      <td>38.0</td>\n",
       "      <td>1</td>\n",
       "      <td>0</td>\n",
       "      <td>PC 17599</td>\n",
       "      <td>71.2833</td>\n",
       "      <td>C85</td>\n",
       "      <td>C</td>\n",
       "    </tr>\n",
       "    <tr>\n",
       "      <th>2</th>\n",
       "      <td>3</td>\n",
       "      <td>1</td>\n",
       "      <td>3</td>\n",
       "      <td>Heikkinen, Miss. Laina</td>\n",
       "      <td>female</td>\n",
       "      <td>26.0</td>\n",
       "      <td>0</td>\n",
       "      <td>0</td>\n",
       "      <td>STON/O2. 3101282</td>\n",
       "      <td>7.9250</td>\n",
       "      <td>NaN</td>\n",
       "      <td>S</td>\n",
       "    </tr>\n",
       "    <tr>\n",
       "      <th>3</th>\n",
       "      <td>4</td>\n",
       "      <td>1</td>\n",
       "      <td>1</td>\n",
       "      <td>Futrelle, Mrs. Jacques Heath (Lily May Peel)</td>\n",
       "      <td>female</td>\n",
       "      <td>35.0</td>\n",
       "      <td>1</td>\n",
       "      <td>0</td>\n",
       "      <td>113803</td>\n",
       "      <td>53.1000</td>\n",
       "      <td>C123</td>\n",
       "      <td>S</td>\n",
       "    </tr>\n",
       "    <tr>\n",
       "      <th>4</th>\n",
       "      <td>5</td>\n",
       "      <td>0</td>\n",
       "      <td>3</td>\n",
       "      <td>Allen, Mr. William Henry</td>\n",
       "      <td>male</td>\n",
       "      <td>35.0</td>\n",
       "      <td>0</td>\n",
       "      <td>0</td>\n",
       "      <td>373450</td>\n",
       "      <td>8.0500</td>\n",
       "      <td>NaN</td>\n",
       "      <td>S</td>\n",
       "    </tr>\n",
       "  </tbody>\n",
       "</table>\n",
       "</div>"
      ],
      "text/plain": [
       "   PassengerId  Survived  Pclass  \\\n",
       "0            1         0       3   \n",
       "1            2         1       1   \n",
       "2            3         1       3   \n",
       "3            4         1       1   \n",
       "4            5         0       3   \n",
       "\n",
       "                                                Name     Sex   Age  SibSp  \\\n",
       "0                            Braund, Mr. Owen Harris    male  22.0      1   \n",
       "1  Cumings, Mrs. John Bradley (Florence Briggs Th...  female  38.0      1   \n",
       "2                             Heikkinen, Miss. Laina  female  26.0      0   \n",
       "3       Futrelle, Mrs. Jacques Heath (Lily May Peel)  female  35.0      1   \n",
       "4                           Allen, Mr. William Henry    male  35.0      0   \n",
       "\n",
       "   Parch            Ticket     Fare Cabin Embarked  \n",
       "0      0         A/5 21171   7.2500   NaN        S  \n",
       "1      0          PC 17599  71.2833   C85        C  \n",
       "2      0  STON/O2. 3101282   7.9250   NaN        S  \n",
       "3      0            113803  53.1000  C123        S  \n",
       "4      0            373450   8.0500   NaN        S  "
      ]
     },
     "execution_count": 2,
     "metadata": {},
     "output_type": "execute_result"
    }
   ],
   "source": [
    "data.head()\n"
   ]
  },
  {
   "cell_type": "code",
   "execution_count": 3,
   "metadata": {
    "execution": {
     "iopub.execute_input": "2021-01-16T17:47:17.582011Z",
     "iopub.status.busy": "2021-01-16T17:47:17.581278Z",
     "iopub.status.idle": "2021-01-16T17:47:17.993630Z",
     "shell.execute_reply": "2021-01-16T17:47:17.993071Z"
    },
    "papermill": {
     "duration": 0.458896,
     "end_time": "2021-01-16T17:47:17.993747",
     "exception": false,
     "start_time": "2021-01-16T17:47:17.534851",
     "status": "completed"
    },
    "tags": []
   },
   "outputs": [
    {
     "name": "stdout",
     "output_type": "stream",
     "text": [
      "For Train data set \n",
      " male      0.647587\n",
      "female    0.352413\n",
      "Name: Sex, dtype: float64 \n",
      "\n",
      "For Test data set \n",
      " male      0.636364\n",
      "female    0.363636\n",
      "Name: Sex, dtype: float64\n"
     ]
    },
    {
     "data": {
      "text/plain": [
       "0"
      ]
     },
     "execution_count": 3,
     "metadata": {},
     "output_type": "execute_result"
    },
    {
     "data": {
      "image/png": "[encoded data removed]",
      "text/plain": [
       "<Figure size 1080x360 with 2 Axes>"
      ]
     },
     "metadata": {
      "needs_background": "light"
     },
     "output_type": "display_data"
    }
   ],
   "source": [
    "def comp_plot(col):\n",
    "    fig, (ax1, ax2) = plt.subplots(1, 2, sharey=True)\n",
    "\n",
    "    data[col].value_counts(normalize=True).plot(kind='bar', figsize=(15,5), ax=ax1)\n",
    "    ax1.set_title('Train set')\n",
    "    test[col].value_counts(normalize=True).plot(kind='bar', figsize=(15,5), ax=ax2)\n",
    "    ax2.set_title('Test set')\n",
    "    print('For Train data set', '\\n', data[col].value_counts(normalize='True'), '\\n')\n",
    "    print('For Test data set', '\\n',test[col].value_counts(normalize='True'))\n",
    "    \n",
    "    return 0\n",
    "\n",
    "comp_plot('Sex')"
   ]
  },
  {
   "cell_type": "code",
   "execution_count": 4,
   "metadata": {
    "execution": {
     "iopub.execute_input": "2021-01-16T17:47:18.081997Z",
     "iopub.status.busy": "2021-01-16T17:47:18.076855Z",
     "iopub.status.idle": "2021-01-16T17:47:18.375179Z",
     "shell.execute_reply": "2021-01-16T17:47:18.375755Z"
    },
    "papermill": {
     "duration": 0.343069,
     "end_time": "2021-01-16T17:47:18.375926",
     "exception": false,
     "start_time": "2021-01-16T17:47:18.032857",
     "status": "completed"
    },
    "tags": []
   },
   "outputs": [
    {
     "name": "stdout",
     "output_type": "stream",
     "text": [
      "For Train data set \n",
      " 3    0.551066\n",
      "1    0.242424\n",
      "2    0.206510\n",
      "Name: Pclass, dtype: float64 \n",
      "\n",
      "For Test data set \n",
      " 3    0.521531\n",
      "1    0.255981\n",
      "2    0.222488\n",
      "Name: Pclass, dtype: float64\n"
     ]
    },
    {
     "data": {
      "text/plain": [
       "0"
      ]
     },
     "execution_count": 4,
     "metadata": {},
     "output_type": "execute_result"
    },
    {
     "data": {
      "image/png": "[encoded data removed]",
      "text/plain": [
       "<Figure size 1080x360 with 2 Axes>"
      ]
     },
     "metadata": {
      "needs_background": "light"
     },
     "output_type": "display_data"
    }
   ],
   "source": [
    "comp_plot('Pclass')"
   ]
  },
  {
   "cell_type": "code",
   "execution_count": 5,
   "metadata": {
    "execution": {
     "iopub.execute_input": "2021-01-16T17:47:18.565386Z",
     "iopub.status.busy": "2021-01-16T17:47:18.564139Z",
     "iopub.status.idle": "2021-01-16T17:47:18.718378Z",
     "shell.execute_reply": "2021-01-16T17:47:18.719247Z"
    },
    "papermill": {
     "duration": 0.29847,
     "end_time": "2021-01-16T17:47:18.719463",
     "exception": false,
     "start_time": "2021-01-16T17:47:18.420993",
     "status": "completed"
    },
    "tags": []
   },
   "outputs": [
    {
     "name": "stdout",
     "output_type": "stream",
     "text": [
      "0    0.616162\n",
      "1    0.383838\n",
      "Name: Survived, dtype: float64\n"
     ]
    },
    {
     "data": {
      "text/plain": [
       "<matplotlib.axes._subplots.AxesSubplot at 0x7fae355d36d0>"
      ]
     },
     "execution_count": 5,
     "metadata": {},
     "output_type": "execute_result"
    },
    {
     "data": {
      "image/png": "[encoded data removed]",
      "text/plain": [
       "<Figure size 432x288 with 1 Axes>"
      ]
     },
     "metadata": {
      "needs_background": "light"
     },
     "output_type": "display_data"
    }
   ],
   "source": [
    "Sur = data.Survived.value_counts(normalize='True')\n",
    "print(Sur)\n",
    "data['Survived'].value_counts(normalize=True).plot(kind='bar')\n",
    "\n",
    "#only 38% of people survived"
   ]
  },
  {
   "cell_type": "code",
   "execution_count": 6,
   "metadata": {
    "execution": {
     "iopub.execute_input": "2021-01-16T17:47:18.829057Z",
     "iopub.status.busy": "2021-01-16T17:47:18.828050Z",
     "iopub.status.idle": "2021-01-16T17:47:19.208049Z",
     "shell.execute_reply": "2021-01-16T17:47:19.208627Z"
    },
    "papermill": {
     "duration": 0.426002,
     "end_time": "2021-01-16T17:47:19.208764",
     "exception": false,
     "start_time": "2021-01-16T17:47:18.782762",
     "status": "completed"
    },
    "tags": []
   },
   "outputs": [
    {
     "data": {
      "text/plain": [
       "Text(0.5, 1.0, 'Histogram of Age-Test set')"
      ]
     },
     "execution_count": 6,
     "metadata": {},
     "output_type": "execute_result"
    },
    {
     "data": {
      "image/png": "[encoded data removed]",
      "text/plain": [
       "<Figure size 1080x360 with 2 Axes>"
      ]
     },
     "metadata": {
      "needs_background": "light"
     },
     "output_type": "display_data"
    }
   ],
   "source": [
    "fig, (ax1, ax2)  = plt.subplots(1, 2, sharey=True, figsize=(15,5))\n",
    "data.hist(column='Age', ax=ax1)\n",
    "ax1.set_title('Histogram of Age-Train set')\n",
    "test.hist(column='Age', ax=ax2)\n",
    "ax2.set_title('Histogram of Age-Test set')"
   ]
  },
  {
   "cell_type": "code",
   "execution_count": 7,
   "metadata": {
    "execution": {
     "iopub.execute_input": "2021-01-16T17:47:19.309520Z",
     "iopub.status.busy": "2021-01-16T17:47:19.308330Z",
     "iopub.status.idle": "2021-01-16T17:47:19.656256Z",
     "shell.execute_reply": "2021-01-16T17:47:19.655699Z"
    },
    "papermill": {
     "duration": 0.405137,
     "end_time": "2021-01-16T17:47:19.656379",
     "exception": false,
     "start_time": "2021-01-16T17:47:19.251242",
     "status": "completed"
    },
    "tags": []
   },
   "outputs": [
    {
     "data": {
      "text/plain": [
       "Text(0.5, 1.0, 'Histogram of Fare-Test set')"
      ]
     },
     "execution_count": 7,
     "metadata": {},
     "output_type": "execute_result"
    },
    {
     "data": {
      "image/png": "[encoded data removed]",
      "text/plain": [
       "<Figure size 1080x360 with 2 Axes>"
      ]
     },
     "metadata": {
      "needs_background": "light"
     },
     "output_type": "display_data"
    }
   ],
   "source": [
    "fig, (ax1, ax2)  = plt.subplots(1, 2, sharey=True, figsize=(15,5))\n",
    "data.hist(column='Fare', ax=ax1)\n",
    "ax1.set_title('Histogram of Fare-Train set')\n",
    "test.hist(column='Fare', ax=ax2)\n",
    "ax2.set_title('Histogram of Fare-Test set')"
   ]
  },
  {
   "cell_type": "code",
   "execution_count": 8,
   "metadata": {
    "execution": {
     "iopub.execute_input": "2021-01-16T17:47:19.761960Z",
     "iopub.status.busy": "2021-01-16T17:47:19.761321Z",
     "iopub.status.idle": "2021-01-16T17:47:20.296642Z",
     "shell.execute_reply": "2021-01-16T17:47:20.296068Z"
    },
    "papermill": {
     "duration": 0.587413,
     "end_time": "2021-01-16T17:47:20.296766",
     "exception": false,
     "start_time": "2021-01-16T17:47:19.709353",
     "status": "completed"
    },
    "tags": []
   },
   "outputs": [
    {
     "data": {
      "text/plain": [
       "<matplotlib.axes._subplots.AxesSubplot at 0x7fae353ace10>"
      ]
     },
     "execution_count": 8,
     "metadata": {},
     "output_type": "execute_result"
    },
    {
     "data": {
      "image/png": "[encoded data removed]",
      "text/plain": [
       "<Figure size 1080x360 with 2 Axes>"
      ]
     },
     "metadata": {
      "needs_background": "light"
     },
     "output_type": "display_data"
    }
   ],
   "source": [
    "fig, (ax1, ax2)  = plt.subplots(1, 2, figsize=(15,5))\n",
    "sns.scatterplot(x='Pclass', y='Age', hue='Survived', data=data, ax=ax1)\n",
    "sns.scatterplot(x='Pclass', y='Fare', hue='Survived', size='Survived', data=data, ax=ax2)"
   ]
  },
  {
   "cell_type": "code",
   "execution_count": 9,
   "metadata": {
    "execution": {
     "iopub.execute_input": "2021-01-16T17:47:20.406178Z",
     "iopub.status.busy": "2021-01-16T17:47:20.405501Z",
     "iopub.status.idle": "2021-01-16T17:47:20.777468Z",
     "shell.execute_reply": "2021-01-16T17:47:20.776550Z"
    },
    "papermill": {
     "duration": 0.43355,
     "end_time": "2021-01-16T17:47:20.777643",
     "exception": false,
     "start_time": "2021-01-16T17:47:20.344093",
     "status": "completed"
    },
    "tags": []
   },
   "outputs": [
    {
     "data": {
      "text/plain": [
       "<matplotlib.axes._subplots.AxesSubplot at 0x7fae3526e0d0>"
      ]
     },
     "execution_count": 9,
     "metadata": {},
     "output_type": "execute_result"
    },
    {
     "data": {
      "image/png": "[encoded data removed]",
      "text/plain": [
       "<Figure size 1080x360 with 2 Axes>"
      ]
     },
     "metadata": {
      "needs_background": "light"
     },
     "output_type": "display_data"
    }
   ],
   "source": [
    "fig, (ax1, ax2)  = plt.subplots(1, 2, figsize=(15,5))\n",
    "sns.scatterplot(x='Survived', y='Fare', data=data, ax=ax1)\n",
    "sns.scatterplot(x='Survived', y='Age', data=data, ax=ax2)"
   ]
  },
  {
   "cell_type": "code",
   "execution_count": 10,
   "metadata": {
    "execution": {
     "iopub.execute_input": "2021-01-16T17:47:20.913687Z",
     "iopub.status.busy": "2021-01-16T17:47:20.912932Z",
     "iopub.status.idle": "2021-01-16T17:47:21.091510Z",
     "shell.execute_reply": "2021-01-16T17:47:21.090958Z"
    },
    "papermill": {
     "duration": 0.244198,
     "end_time": "2021-01-16T17:47:21.091621",
     "exception": false,
     "start_time": "2021-01-16T17:47:20.847423",
     "status": "completed"
    },
    "tags": []
   },
   "outputs": [
    {
     "name": "stdout",
     "output_type": "stream",
     "text": [
      "Survived         0         1\n",
      "Sex                         \n",
      "female    0.257962  0.742038\n",
      "male      0.811092  0.188908\n"
     ]
    },
    {
     "data": {
      "text/plain": [
       "<matplotlib.axes._subplots.AxesSubplot at 0x7fae3521de50>"
      ]
     },
     "execution_count": 10,
     "metadata": {},
     "output_type": "execute_result"
    },
    {
     "data": {
      "image/png": "[encoded data removed]",
      "text/plain": [
       "<Figure size 432x288 with 1 Axes>"
      ]
     },
     "metadata": {
      "needs_background": "light"
     },
     "output_type": "display_data"
    }
   ],
   "source": [
    "df_sur_gen = data.groupby(['Sex'])['Survived'].value_counts(normalize = 'True').unstack('Survived')\n",
    "print(df_sur_gen)\n",
    "df_sur_gen.plot(kind='bar', stacked=True)"
   ]
  },
  {
   "cell_type": "code",
   "execution_count": 11,
   "metadata": {
    "execution": {
     "iopub.execute_input": "2021-01-16T17:47:21.200877Z",
     "iopub.status.busy": "2021-01-16T17:47:21.199273Z",
     "iopub.status.idle": "2021-01-16T17:47:21.374541Z",
     "shell.execute_reply": "2021-01-16T17:47:21.375280Z"
    },
    "papermill": {
     "duration": 0.23436,
     "end_time": "2021-01-16T17:47:21.375469",
     "exception": false,
     "start_time": "2021-01-16T17:47:21.141109",
     "status": "completed"
    },
    "tags": []
   },
   "outputs": [
    {
     "name": "stdout",
     "output_type": "stream",
     "text": [
      "Survived         0         1\n",
      "Pclass                      \n",
      "1         0.370370  0.629630\n",
      "2         0.527174  0.472826\n",
      "3         0.757637  0.242363\n"
     ]
    },
    {
     "data": {
      "text/plain": [
       "<matplotlib.axes._subplots.AxesSubplot at 0x7fae351fac10>"
      ]
     },
     "execution_count": 11,
     "metadata": {},
     "output_type": "execute_result"
    },
    {
     "data": {
      "image/png": "[encoded data removed]",
      "text/plain": [
       "<Figure size 432x288 with 1 Axes>"
      ]
     },
     "metadata": {
      "needs_background": "light"
     },
     "output_type": "display_data"
    }
   ],
   "source": [
    "df_class = data.groupby(['Pclass'])['Survived'].value_counts(normalize=True).unstack('Survived')\n",
    "print(df_class)\n",
    "df_class.plot(kind='bar', stacked=True)\n",
    "# 62% of class 1 people survived\n",
    "# 47% of class 2 people survived\n",
    "# 24% of class 3 people survived"
   ]
  },
  {
   "cell_type": "code",
   "execution_count": 12,
   "metadata": {
    "execution": {
     "iopub.execute_input": "2021-01-16T17:47:21.504483Z",
     "iopub.status.busy": "2021-01-16T17:47:21.503771Z",
     "iopub.status.idle": "2021-01-16T17:47:21.507989Z",
     "shell.execute_reply": "2021-01-16T17:47:21.507481Z"
    },
    "papermill": {
     "duration": 0.072328,
     "end_time": "2021-01-16T17:47:21.508124",
     "exception": false,
     "start_time": "2021-01-16T17:47:21.435796",
     "status": "completed"
    },
    "tags": []
   },
   "outputs": [
    {
     "data": {
      "text/plain": [
       "PassengerId      0\n",
       "Survived         0\n",
       "Pclass           0\n",
       "Name             0\n",
       "Sex              0\n",
       "Age            177\n",
       "SibSp            0\n",
       "Parch            0\n",
       "Ticket           0\n",
       "Fare             0\n",
       "Cabin          687\n",
       "Embarked         2\n",
       "dtype: int64"
      ]
     },
     "execution_count": 12,
     "metadata": {},
     "output_type": "execute_result"
    }
   ],
   "source": [
    "data.isnull().sum()"
   ]
  },
  {
   "cell_type": "code",
   "execution_count": 13,
   "metadata": {
    "execution": {
     "iopub.execute_input": "2021-01-16T17:47:21.623761Z",
     "iopub.status.busy": "2021-01-16T17:47:21.622867Z",
     "iopub.status.idle": "2021-01-16T17:47:21.627331Z",
     "shell.execute_reply": "2021-01-16T17:47:21.626693Z"
    },
    "papermill": {
     "duration": 0.065892,
     "end_time": "2021-01-16T17:47:21.627443",
     "exception": false,
     "start_time": "2021-01-16T17:47:21.561551",
     "status": "completed"
    },
    "tags": []
   },
   "outputs": [
    {
     "data": {
      "text/plain": [
       "PassengerId      0\n",
       "Pclass           0\n",
       "Name             0\n",
       "Sex              0\n",
       "Age             86\n",
       "SibSp            0\n",
       "Parch            0\n",
       "Ticket           0\n",
       "Fare             1\n",
       "Cabin          327\n",
       "Embarked         0\n",
       "dtype: int64"
      ]
     },
     "execution_count": 13,
     "metadata": {},
     "output_type": "execute_result"
    }
   ],
   "source": [
    "test.isnull().sum()"
   ]
  },
  {
   "cell_type": "code",
   "execution_count": 14,
   "metadata": {
    "execution": {
     "iopub.execute_input": "2021-01-16T17:47:21.771094Z",
     "iopub.status.busy": "2021-01-16T17:47:21.770290Z",
     "iopub.status.idle": "2021-01-16T17:47:21.775948Z",
     "shell.execute_reply": "2021-01-16T17:47:21.775137Z"
    },
    "papermill": {
     "duration": 0.094689,
     "end_time": "2021-01-16T17:47:21.776084",
     "exception": false,
     "start_time": "2021-01-16T17:47:21.681395",
     "status": "completed"
    },
    "tags": []
   },
   "outputs": [
    {
     "data": {
      "text/html": [
       "<div>\n",
       "<style scoped>\n",
       "    .dataframe tbody tr th:only-of-type {\n",
       "        vertical-align: middle;\n",
       "    }\n",
       "\n",
       "    .dataframe tbody tr th {\n",
       "        vertical-align: top;\n",
       "    }\n",
       "\n",
       "    .dataframe thead th {\n",
       "        text-align: right;\n",
       "    }\n",
       "</style>\n",
       "<table border=\"1\" class=\"dataframe\">\n",
       "  <thead>\n",
       "    <tr style=\"text-align: right;\">\n",
       "      <th></th>\n",
       "      <th>Sex</th>\n",
       "      <th>Pclass</th>\n",
       "      <th>m_Age</th>\n",
       "    </tr>\n",
       "  </thead>\n",
       "  <tbody>\n",
       "    <tr>\n",
       "      <th>0</th>\n",
       "      <td>female</td>\n",
       "      <td>1</td>\n",
       "      <td>34.611765</td>\n",
       "    </tr>\n",
       "    <tr>\n",
       "      <th>1</th>\n",
       "      <td>female</td>\n",
       "      <td>2</td>\n",
       "      <td>28.722973</td>\n",
       "    </tr>\n",
       "    <tr>\n",
       "      <th>2</th>\n",
       "      <td>female</td>\n",
       "      <td>3</td>\n",
       "      <td>21.750000</td>\n",
       "    </tr>\n",
       "    <tr>\n",
       "      <th>3</th>\n",
       "      <td>male</td>\n",
       "      <td>1</td>\n",
       "      <td>41.281386</td>\n",
       "    </tr>\n",
       "    <tr>\n",
       "      <th>4</th>\n",
       "      <td>male</td>\n",
       "      <td>2</td>\n",
       "      <td>30.740707</td>\n",
       "    </tr>\n",
       "    <tr>\n",
       "      <th>5</th>\n",
       "      <td>male</td>\n",
       "      <td>3</td>\n",
       "      <td>26.507589</td>\n",
       "    </tr>\n",
       "  </tbody>\n",
       "</table>\n",
       "</div>"
      ],
      "text/plain": [
       "      Sex  Pclass      m_Age\n",
       "0  female       1  34.611765\n",
       "1  female       2  28.722973\n",
       "2  female       3  21.750000\n",
       "3    male       1  41.281386\n",
       "4    male       2  30.740707\n",
       "5    male       3  26.507589"
      ]
     },
     "execution_count": 14,
     "metadata": {},
     "output_type": "execute_result"
    }
   ],
   "source": [
    "mean_age = data.groupby(['Sex','Pclass'])['Age'].mean()\n",
    "mean_age.reset_index(name = 'm_Age')"
   ]
  },
  {
   "cell_type": "code",
   "execution_count": 15,
   "metadata": {
    "execution": {
     "iopub.execute_input": "2021-01-16T17:47:21.897742Z",
     "iopub.status.busy": "2021-01-16T17:47:21.897104Z",
     "iopub.status.idle": "2021-01-16T17:47:21.947413Z",
     "shell.execute_reply": "2021-01-16T17:47:21.946751Z"
    },
    "papermill": {
     "duration": 0.107739,
     "end_time": "2021-01-16T17:47:21.947531",
     "exception": false,
     "start_time": "2021-01-16T17:47:21.839792",
     "status": "completed"
    },
    "tags": []
   },
   "outputs": [],
   "source": [
    "def fill_Ages(row):\n",
    "    if pd.isnull(row['Age']):\n",
    "        return mean_age[row['Sex'],row['Pclass']]\n",
    "    else:\n",
    "        return row['Age']\n",
    "\n",
    "data['Age'] =data.apply(fill_Ages, axis=1)"
   ]
  },
  {
   "cell_type": "code",
   "execution_count": 16,
   "metadata": {
    "execution": {
     "iopub.execute_input": "2021-01-16T17:47:22.064152Z",
     "iopub.status.busy": "2021-01-16T17:47:22.063143Z",
     "iopub.status.idle": "2021-01-16T17:47:22.087497Z",
     "shell.execute_reply": "2021-01-16T17:47:22.088003Z"
    },
    "papermill": {
     "duration": 0.08481,
     "end_time": "2021-01-16T17:47:22.088157",
     "exception": false,
     "start_time": "2021-01-16T17:47:22.003347",
     "status": "completed"
    },
    "tags": []
   },
   "outputs": [],
   "source": [
    "mean_age = test.groupby(['Sex','Pclass'])['Age'].mean()\n",
    "mean_age.reset_index(name = 'm_Age')\n",
    "\n",
    "test['Age'] =test.apply(fill_Ages, axis=1)\n",
    "\n",
    "test.Fare.fillna(test.Fare.mean(),inplace=True)"
   ]
  },
  {
   "cell_type": "code",
   "execution_count": 17,
   "metadata": {
    "execution": {
     "iopub.execute_input": "2021-01-16T17:47:22.208453Z",
     "iopub.status.busy": "2021-01-16T17:47:22.207466Z",
     "iopub.status.idle": "2021-01-16T17:47:22.214075Z",
     "shell.execute_reply": "2021-01-16T17:47:22.214615Z"
    },
    "papermill": {
     "duration": 0.066033,
     "end_time": "2021-01-16T17:47:22.214800",
     "exception": false,
     "start_time": "2021-01-16T17:47:22.148767",
     "status": "completed"
    },
    "tags": []
   },
   "outputs": [],
   "source": [
    "data.Cabin.fillna('Unknown', inplace=True)\n",
    "test.Cabin.fillna('Unknown', inplace=True)"
   ]
  },
  {
   "cell_type": "code",
   "execution_count": 18,
   "metadata": {
    "execution": {
     "iopub.execute_input": "2021-01-16T17:47:22.330075Z",
     "iopub.status.busy": "2021-01-16T17:47:22.329095Z",
     "iopub.status.idle": "2021-01-16T17:47:22.337477Z",
     "shell.execute_reply": "2021-01-16T17:47:22.338001Z"
    },
    "papermill": {
     "duration": 0.066124,
     "end_time": "2021-01-16T17:47:22.338140",
     "exception": false,
     "start_time": "2021-01-16T17:47:22.272016",
     "status": "completed"
    },
    "tags": []
   },
   "outputs": [
    {
     "data": {
      "text/plain": [
       "S    644\n",
       "C    168\n",
       "Q     77\n",
       "Name: Embarked, dtype: int64"
      ]
     },
     "execution_count": 18,
     "metadata": {},
     "output_type": "execute_result"
    }
   ],
   "source": [
    "data.Embarked.value_counts()"
   ]
  },
  {
   "cell_type": "code",
   "execution_count": 19,
   "metadata": {
    "execution": {
     "iopub.execute_input": "2021-01-16T17:47:22.449938Z",
     "iopub.status.busy": "2021-01-16T17:47:22.448904Z",
     "iopub.status.idle": "2021-01-16T17:47:22.455420Z",
     "shell.execute_reply": "2021-01-16T17:47:22.454805Z"
    },
    "papermill": {
     "duration": 0.063987,
     "end_time": "2021-01-16T17:47:22.455542",
     "exception": false,
     "start_time": "2021-01-16T17:47:22.391555",
     "status": "completed"
    },
    "tags": []
   },
   "outputs": [],
   "source": [
    "data.Embarked.fillna('S', inplace=True)"
   ]
  },
  {
   "cell_type": "code",
   "execution_count": 20,
   "metadata": {
    "execution": {
     "iopub.execute_input": "2021-01-16T17:47:22.569262Z",
     "iopub.status.busy": "2021-01-16T17:47:22.568540Z",
     "iopub.status.idle": "2021-01-16T17:47:22.583807Z",
     "shell.execute_reply": "2021-01-16T17:47:22.583261Z"
    },
    "papermill": {
     "duration": 0.072885,
     "end_time": "2021-01-16T17:47:22.583938",
     "exception": false,
     "start_time": "2021-01-16T17:47:22.511053",
     "status": "completed"
    },
    "tags": []
   },
   "outputs": [
    {
     "data": {
      "text/plain": [
       "Mr              517\n",
       "Miss            182\n",
       "Mrs             125\n",
       "Master           40\n",
       "Dr                7\n",
       "Rev               6\n",
       "Major             2\n",
       "Col               2\n",
       "Mlle              2\n",
       "Capt              1\n",
       "Sir               1\n",
       "Ms                1\n",
       "Jonkheer          1\n",
       "the Countess      1\n",
       "Lady              1\n",
       "Mme               1\n",
       "Don               1\n",
       "Name: Title, dtype: int64"
      ]
     },
     "execution_count": 20,
     "metadata": {},
     "output_type": "execute_result"
    }
   ],
   "source": [
    "data['Title'] = data.Name.str.extract(r',\\s*([^\\.]*)\\s*\\.',expand=False)\n",
    "\n",
    "test['Title'] = test.Name.str.extract(r',\\s*([^\\.]*)\\s*\\.',expand=False)\n",
    "\n",
    "data['Title'].value_counts()"
   ]
  },
  {
   "cell_type": "code",
   "execution_count": 21,
   "metadata": {
    "execution": {
     "iopub.execute_input": "2021-01-16T17:47:22.701252Z",
     "iopub.status.busy": "2021-01-16T17:47:22.700460Z",
     "iopub.status.idle": "2021-01-16T17:47:22.716072Z",
     "shell.execute_reply": "2021-01-16T17:47:22.716604Z"
    },
    "papermill": {
     "duration": 0.076713,
     "end_time": "2021-01-16T17:47:22.716754",
     "exception": false,
     "start_time": "2021-01-16T17:47:22.640041",
     "status": "completed"
    },
    "tags": []
   },
   "outputs": [],
   "source": [
    "# noble - 1\n",
    "# Mrs - 2\n",
    "# Miss - 3\n",
    "# Mr - 4\n",
    "# Workers - 5\n",
    "\n",
    "title_map = {'Lady':1, 'Master':1, 'the Countess':1, 'Jonkheer':1, 'Sir':1, 'Don':1, 'Dr':1,\n",
    "             'Mrs':2, 'Mme':2, 'Miss':3, 'Mlle':3, 'Ms':3,\n",
    "             'Mr':4, 'Capt': 5, 'Col':5, 'Major':5, 'Rev':5 }\n",
    "\n",
    "data.Title = data.Title.map(title_map)\n",
    "\n",
    "test.Title = test.Title.map(title_map)\n",
    "\n",
    "data.drop('Name', axis=1, inplace=True) \n",
    "test.drop('Name', axis=1, inplace=True)"
   ]
  },
  {
   "cell_type": "code",
   "execution_count": 22,
   "metadata": {
    "execution": {
     "iopub.execute_input": "2021-01-16T17:47:22.831631Z",
     "iopub.status.busy": "2021-01-16T17:47:22.830958Z",
     "iopub.status.idle": "2021-01-16T17:47:22.841443Z",
     "shell.execute_reply": "2021-01-16T17:47:22.842005Z"
    },
    "papermill": {
     "duration": 0.069057,
     "end_time": "2021-01-16T17:47:22.842147",
     "exception": false,
     "start_time": "2021-01-16T17:47:22.773090",
     "status": "completed"
    },
    "tags": []
   },
   "outputs": [],
   "source": [
    "# less than 50 - 1\n",
    "# less than 100 - 2\n",
    "# less than 150 - 3\n",
    "# else - 3\n",
    "\n",
    "def Fare_group(fare):\n",
    "    a = 0\n",
    "    if (fare <= 50):\n",
    "        a = 1\n",
    "    \n",
    "    elif (fare <= 100):\n",
    "        a = 2\n",
    "    \n",
    "    elif (fare <=150):\n",
    "        a = 3\n",
    "        \n",
    "    else:\n",
    "        a = 4\n",
    "\n",
    "    return a\n",
    "\n",
    "\n",
    "data['Fare Group'] = data.Fare.map(Fare_group)\n",
    "#data.drop('Fare', axis=1, inplace=True)\n",
    "\n",
    "test['Fare Group'] = test.Fare.map(Fare_group)  \n",
    "#test.drop('Fare', axis=1, inplace=True)"
   ]
  },
  {
   "cell_type": "code",
   "execution_count": 23,
   "metadata": {
    "execution": {
     "iopub.execute_input": "2021-01-16T17:47:22.956087Z",
     "iopub.status.busy": "2021-01-16T17:47:22.955395Z",
     "iopub.status.idle": "2021-01-16T17:47:22.966349Z",
     "shell.execute_reply": "2021-01-16T17:47:22.965689Z"
    },
    "papermill": {
     "duration": 0.069379,
     "end_time": "2021-01-16T17:47:22.966458",
     "exception": false,
     "start_time": "2021-01-16T17:47:22.897079",
     "status": "completed"
    },
    "tags": []
   },
   "outputs": [],
   "source": [
    "# below 10 - 1\n",
    "# below 20 - 2\n",
    "# below 40 - 3\n",
    "# below 80 - 4\n",
    "\n",
    "def Age_group(age):\n",
    "    a = 0\n",
    "    if (age <= 10):\n",
    "        a = 1 \n",
    "    \n",
    "    elif (age <= 20):\n",
    "        a = 2\n",
    "    \n",
    "    elif (age <=40):\n",
    "        a = 3\n",
    "        \n",
    "    else:\n",
    "        a = 4\n",
    "\n",
    "    return a\n",
    "\n",
    "data['Age Group'] = data.Age.map(Age_group)\n",
    "#data.drop('Age', axis=1, inplace=True)\n",
    "\n",
    "test['Age Group'] = test.Age.map(Age_group)  \n",
    "#test.drop('Age', axis=1, inplace=True)"
   ]
  },
  {
   "cell_type": "code",
   "execution_count": 24,
   "metadata": {
    "execution": {
     "iopub.execute_input": "2021-01-16T17:47:23.087565Z",
     "iopub.status.busy": "2021-01-16T17:47:23.086869Z",
     "iopub.status.idle": "2021-01-16T17:47:23.089998Z",
     "shell.execute_reply": "2021-01-16T17:47:23.089478Z"
    },
    "papermill": {
     "duration": 0.067727,
     "end_time": "2021-01-16T17:47:23.090113",
     "exception": false,
     "start_time": "2021-01-16T17:47:23.022386",
     "status": "completed"
    },
    "tags": []
   },
   "outputs": [],
   "source": [
    "data['Sex'] = data.Sex.apply(lambda x:1 if x=='female' else 2)   #converting column Sex into int format\n",
    "test['Sex'] = test.Sex.apply(lambda x:1 if x=='female' else 2)"
   ]
  },
  {
   "cell_type": "code",
   "execution_count": 25,
   "metadata": {
    "execution": {
     "iopub.execute_input": "2021-01-16T17:47:23.212372Z",
     "iopub.status.busy": "2021-01-16T17:47:23.211338Z",
     "iopub.status.idle": "2021-01-16T17:47:23.213728Z",
     "shell.execute_reply": "2021-01-16T17:47:23.214280Z"
    },
    "papermill": {
     "duration": 0.06863,
     "end_time": "2021-01-16T17:47:23.214414",
     "exception": false,
     "start_time": "2021-01-16T17:47:23.145784",
     "status": "completed"
    },
    "tags": []
   },
   "outputs": [],
   "source": [
    "# S - 1\n",
    "# C - 2\n",
    "# Q - 3\n",
    "\n",
    "data['Embarked'] = data.Embarked.apply(lambda x:1 if x=='S' else (2 if x=='C' else 3))\n",
    "test['Embarked'] = test.Embarked.apply(lambda x:1 if x=='S' else (2 if x=='C' else 3))"
   ]
  },
  {
   "cell_type": "code",
   "execution_count": 26,
   "metadata": {
    "execution": {
     "iopub.execute_input": "2021-01-16T17:47:23.345119Z",
     "iopub.status.busy": "2021-01-16T17:47:23.343728Z",
     "iopub.status.idle": "2021-01-16T17:47:23.348164Z",
     "shell.execute_reply": "2021-01-16T17:47:23.347632Z"
    },
    "papermill": {
     "duration": 0.076673,
     "end_time": "2021-01-16T17:47:23.348280",
     "exception": false,
     "start_time": "2021-01-16T17:47:23.271607",
     "status": "completed"
    },
    "tags": []
   },
   "outputs": [],
   "source": [
    "data['No_fam_mem'] = data['SibSp'] + data['Parch']\n",
    "data.drop(['SibSp','Parch', 'Ticket'], axis=1, inplace=True)\n",
    "\n",
    "test['No_fam_mem'] = test['SibSp'] + test['Parch']\n",
    "test.drop(['SibSp','Parch', 'Ticket'], axis=1, inplace=True)"
   ]
  },
  {
   "cell_type": "code",
   "execution_count": 27,
   "metadata": {
    "execution": {
     "iopub.execute_input": "2021-01-16T17:47:23.467064Z",
     "iopub.status.busy": "2021-01-16T17:47:23.466410Z",
     "iopub.status.idle": "2021-01-16T17:47:23.470096Z",
     "shell.execute_reply": "2021-01-16T17:47:23.469497Z"
    },
    "papermill": {
     "duration": 0.065822,
     "end_time": "2021-01-16T17:47:23.470201",
     "exception": false,
     "start_time": "2021-01-16T17:47:23.404379",
     "status": "completed"
    },
    "tags": []
   },
   "outputs": [
    {
     "data": {
      "text/plain": [
       "0     537\n",
       "1     161\n",
       "2     102\n",
       "3      29\n",
       "5      22\n",
       "4      15\n",
       "6      12\n",
       "10      7\n",
       "7       6\n",
       "Name: No_fam_mem, dtype: int64"
      ]
     },
     "execution_count": 27,
     "metadata": {},
     "output_type": "execute_result"
    }
   ],
   "source": [
    "data.No_fam_mem.value_counts()"
   ]
  },
  {
   "cell_type": "code",
   "execution_count": 28,
   "metadata": {
    "execution": {
     "iopub.execute_input": "2021-01-16T17:47:23.582482Z",
     "iopub.status.busy": "2021-01-16T17:47:23.581842Z",
     "iopub.status.idle": "2021-01-16T17:47:23.598585Z",
     "shell.execute_reply": "2021-01-16T17:47:23.599317Z"
    },
    "papermill": {
     "duration": 0.074851,
     "end_time": "2021-01-16T17:47:23.599477",
     "exception": false,
     "start_time": "2021-01-16T17:47:23.524626",
     "status": "completed"
    },
    "tags": []
   },
   "outputs": [],
   "source": [
    "# travelling alone - 1\n",
    "# small fam - 2\n",
    "# large fam - 3\n",
    "def fam_type(fam_size):\n",
    "    a = 0\n",
    "    if (fam_size==0):\n",
    "        a = 1\n",
    "    \n",
    "    elif (fam_size<= 5):\n",
    "        a = 2\n",
    "    \n",
    "    else:\n",
    "        a = 3\n",
    "\n",
    "    return a\n",
    "\n",
    "data['Fam size'] = data.No_fam_mem.map(fam_type)\n",
    "\n",
    "data.drop('No_fam_mem', axis=1, inplace=True)\n",
    "\n",
    "data = data[['PassengerId', 'Pclass', 'Title', 'Sex', 'Age', 'Age Group', 'Fam size', 'Fare', 'Fare Group', 'Embarked', 'Cabin', 'Survived']]\n",
    "\n",
    "\n",
    "\n",
    "test['Fam size'] = test.No_fam_mem.map(fam_type)\n",
    "\n",
    "test.drop('No_fam_mem', axis=1, inplace=True)\n",
    "\n",
    "test = test[['PassengerId', 'Pclass', 'Title', 'Sex', 'Age', 'Age Group', 'Fam size', 'Fare', 'Fare Group', 'Embarked', 'Cabin']]"
   ]
  },
  {
   "cell_type": "code",
   "execution_count": 29,
   "metadata": {
    "execution": {
     "iopub.execute_input": "2021-01-16T17:47:23.729187Z",
     "iopub.status.busy": "2021-01-16T17:47:23.728165Z",
     "iopub.status.idle": "2021-01-16T17:47:23.736506Z",
     "shell.execute_reply": "2021-01-16T17:47:23.737348Z"
    },
    "papermill": {
     "duration": 0.079569,
     "end_time": "2021-01-16T17:47:23.737549",
     "exception": false,
     "start_time": "2021-01-16T17:47:23.657980",
     "status": "completed"
    },
    "tags": []
   },
   "outputs": [
    {
     "data": {
      "text/plain": [
       "Unknown        687\n",
       "B96 B98          4\n",
       "C23 C25 C27      4\n",
       "G6               4\n",
       "D                3\n",
       "              ... \n",
       "D46              1\n",
       "A6               1\n",
       "C47              1\n",
       "A5               1\n",
       "E50              1\n",
       "Name: Cabin, Length: 148, dtype: int64"
      ]
     },
     "execution_count": 29,
     "metadata": {},
     "output_type": "execute_result"
    }
   ],
   "source": [
    "data.Cabin.value_counts()         #letter of cabin represent the deck"
   ]
  },
  {
   "cell_type": "code",
   "execution_count": 30,
   "metadata": {
    "execution": {
     "iopub.execute_input": "2021-01-16T17:47:23.856823Z",
     "iopub.status.busy": "2021-01-16T17:47:23.856229Z",
     "iopub.status.idle": "2021-01-16T17:47:23.867536Z",
     "shell.execute_reply": "2021-01-16T17:47:23.867034Z"
    },
    "papermill": {
     "duration": 0.071153,
     "end_time": "2021-01-16T17:47:23.867680",
     "exception": false,
     "start_time": "2021-01-16T17:47:23.796527",
     "status": "completed"
    },
    "tags": []
   },
   "outputs": [
    {
     "data": {
      "text/plain": [
       "U    687\n",
       "C     59\n",
       "B     47\n",
       "D     33\n",
       "E     32\n",
       "A     15\n",
       "F     13\n",
       "G      4\n",
       "T      1\n",
       "Name: Cabin, dtype: int64"
      ]
     },
     "execution_count": 30,
     "metadata": {},
     "output_type": "execute_result"
    }
   ],
   "source": [
    "data.Cabin = data.Cabin.map(lambda x: x[0])\n",
    "test.Cabin = test.Cabin.map(lambda x: x[0])\n",
    "\n",
    "data.Cabin.value_counts()"
   ]
  },
  {
   "cell_type": "code",
   "execution_count": 31,
   "metadata": {
    "execution": {
     "iopub.execute_input": "2021-01-16T17:47:23.983329Z",
     "iopub.status.busy": "2021-01-16T17:47:23.982699Z",
     "iopub.status.idle": "2021-01-16T17:47:23.996125Z",
     "shell.execute_reply": "2021-01-16T17:47:23.996645Z"
    },
    "papermill": {
     "duration": 0.072604,
     "end_time": "2021-01-16T17:47:23.996792",
     "exception": false,
     "start_time": "2021-01-16T17:47:23.924188",
     "status": "completed"
    },
    "tags": []
   },
   "outputs": [],
   "source": [
    "# Unknown-1, A-2, B-3, C-4, D-5, E-6, F-7, G-8, T-9\n",
    "\n",
    "deck_map = {'U':1, 'A':2, 'B':3, 'C':4, 'D':5, 'E':6, 'F':7, 'G':8, 'T':9}\n",
    "\n",
    "data['Deck'] = data['Cabin']\n",
    "data.Deck = data.Deck.map(deck_map)\n",
    "\n",
    "data.drop('Cabin', axis=1, inplace=True)\n",
    "\n",
    "test['Deck'] = test['Cabin']\n",
    "test.Deck = test.Deck.map(deck_map)\n",
    "\n",
    "test.drop('Cabin', axis=1, inplace=True)"
   ]
  },
  {
   "cell_type": "code",
   "execution_count": 32,
   "metadata": {
    "execution": {
     "iopub.execute_input": "2021-01-16T17:47:24.122611Z",
     "iopub.status.busy": "2021-01-16T17:47:24.121604Z",
     "iopub.status.idle": "2021-01-16T17:47:24.129498Z",
     "shell.execute_reply": "2021-01-16T17:47:24.129999Z"
    },
    "papermill": {
     "duration": 0.076879,
     "end_time": "2021-01-16T17:47:24.130142",
     "exception": false,
     "start_time": "2021-01-16T17:47:24.053263",
     "status": "completed"
    },
    "tags": []
   },
   "outputs": [
    {
     "data": {
      "text/plain": [
       "PassengerId    0\n",
       "Pclass         0\n",
       "Title          0\n",
       "Sex            0\n",
       "Age            0\n",
       "Age Group      0\n",
       "Fam size       0\n",
       "Fare           0\n",
       "Fare Group     0\n",
       "Embarked       0\n",
       "Survived       0\n",
       "Deck           0\n",
       "dtype: int64"
      ]
     },
     "execution_count": 32,
     "metadata": {},
     "output_type": "execute_result"
    }
   ],
   "source": [
    "data.isnull().sum()"
   ]
  },
  {
   "cell_type": "code",
   "execution_count": 33,
   "metadata": {
    "execution": {
     "iopub.execute_input": "2021-01-16T17:47:24.265567Z",
     "iopub.status.busy": "2021-01-16T17:47:24.264426Z",
     "iopub.status.idle": "2021-01-16T17:47:24.272584Z",
     "shell.execute_reply": "2021-01-16T17:47:24.271974Z"
    },
    "papermill": {
     "duration": 0.076828,
     "end_time": "2021-01-16T17:47:24.272691",
     "exception": false,
     "start_time": "2021-01-16T17:47:24.195863",
     "status": "completed"
    },
    "tags": []
   },
   "outputs": [
    {
     "data": {
      "text/plain": [
       "PassengerId    0\n",
       "Pclass         0\n",
       "Title          1\n",
       "Sex            0\n",
       "Age            0\n",
       "Age Group      0\n",
       "Fam size       0\n",
       "Fare           0\n",
       "Fare Group     0\n",
       "Embarked       0\n",
       "Deck           0\n",
       "dtype: int64"
      ]
     },
     "execution_count": 33,
     "metadata": {},
     "output_type": "execute_result"
    }
   ],
   "source": [
    "test.isnull().sum()"
   ]
  },
  {
   "cell_type": "code",
   "execution_count": 34,
   "metadata": {
    "execution": {
     "iopub.execute_input": "2021-01-16T17:47:24.395317Z",
     "iopub.status.busy": "2021-01-16T17:47:24.392442Z",
     "iopub.status.idle": "2021-01-16T17:47:24.398273Z",
     "shell.execute_reply": "2021-01-16T17:47:24.397647Z"
    },
    "papermill": {
     "duration": 0.066431,
     "end_time": "2021-01-16T17:47:24.398382",
     "exception": false,
     "start_time": "2021-01-16T17:47:24.331951",
     "status": "completed"
    },
    "tags": []
   },
   "outputs": [],
   "source": [
    "test.Title.fillna(3, inplace=True)"
   ]
  },
  {
   "cell_type": "code",
   "execution_count": 35,
   "metadata": {
    "execution": {
     "iopub.execute_input": "2021-01-16T17:47:24.537557Z",
     "iopub.status.busy": "2021-01-16T17:47:24.536487Z",
     "iopub.status.idle": "2021-01-16T17:47:24.539211Z",
     "shell.execute_reply": "2021-01-16T17:47:24.539719Z"
    },
    "papermill": {
     "duration": 0.083246,
     "end_time": "2021-01-16T17:47:24.539860",
     "exception": false,
     "start_time": "2021-01-16T17:47:24.456614",
     "status": "completed"
    },
    "tags": []
   },
   "outputs": [],
   "source": [
    "data['class_age'] = data['Pclass']*data['Age']\n",
    "\n",
    "data['class_title'] = data['Pclass']*data['Title']\n",
    "data['class_gen'] = data['Pclass']*data['Sex']\n",
    "\n",
    "data['fam_fare'] = data['Fam size']*data['Fare']\n",
    "\n",
    "data['em_fare'] = data['Embarked']*data['Fare']\n",
    "\n",
    "data['title_age'] = data['Title']*data['Age']\n",
    "\n",
    "\n",
    "test['class_age'] = test['Pclass']*test['Age']\n",
    "\n",
    "test['class_title'] = test['Pclass']*test['Title']\n",
    "test['class_gen'] = test['Pclass']*test['Sex']\n",
    "\n",
    "test['fam_fare'] = test['Fam size']*test['Fare']\n",
    "\n",
    "test['em_fare'] = test['Embarked']*test['Fare']\n",
    "\n",
    "test['title_age'] = test['Title']*test['Age']"
   ]
  },
  {
   "cell_type": "code",
   "execution_count": 36,
   "metadata": {
    "execution": {
     "iopub.execute_input": "2021-01-16T17:47:24.661679Z",
     "iopub.status.busy": "2021-01-16T17:47:24.660660Z",
     "iopub.status.idle": "2021-01-16T17:47:24.682614Z",
     "shell.execute_reply": "2021-01-16T17:47:24.682014Z"
    },
    "papermill": {
     "duration": 0.083494,
     "end_time": "2021-01-16T17:47:24.682741",
     "exception": false,
     "start_time": "2021-01-16T17:47:24.599247",
     "status": "completed"
    },
    "tags": []
   },
   "outputs": [
    {
     "data": {
      "text/html": [
       "<div>\n",
       "<style scoped>\n",
       "    .dataframe tbody tr th:only-of-type {\n",
       "        vertical-align: middle;\n",
       "    }\n",
       "\n",
       "    .dataframe tbody tr th {\n",
       "        vertical-align: top;\n",
       "    }\n",
       "\n",
       "    .dataframe thead th {\n",
       "        text-align: right;\n",
       "    }\n",
       "</style>\n",
       "<table border=\"1\" class=\"dataframe\">\n",
       "  <thead>\n",
       "    <tr style=\"text-align: right;\">\n",
       "      <th></th>\n",
       "      <th>PassengerId</th>\n",
       "      <th>Pclass</th>\n",
       "      <th>Title</th>\n",
       "      <th>Sex</th>\n",
       "      <th>Age</th>\n",
       "      <th>Age Group</th>\n",
       "      <th>Fam size</th>\n",
       "      <th>Fare</th>\n",
       "      <th>Fare Group</th>\n",
       "      <th>Embarked</th>\n",
       "      <th>Survived</th>\n",
       "      <th>Deck</th>\n",
       "      <th>class_age</th>\n",
       "      <th>class_title</th>\n",
       "      <th>class_gen</th>\n",
       "      <th>fam_fare</th>\n",
       "      <th>em_fare</th>\n",
       "      <th>title_age</th>\n",
       "    </tr>\n",
       "  </thead>\n",
       "  <tbody>\n",
       "    <tr>\n",
       "      <th>0</th>\n",
       "      <td>1</td>\n",
       "      <td>3</td>\n",
       "      <td>4</td>\n",
       "      <td>2</td>\n",
       "      <td>22.0</td>\n",
       "      <td>3</td>\n",
       "      <td>2</td>\n",
       "      <td>7.2500</td>\n",
       "      <td>1</td>\n",
       "      <td>1</td>\n",
       "      <td>0</td>\n",
       "      <td>1</td>\n",
       "      <td>66.0</td>\n",
       "      <td>12</td>\n",
       "      <td>6</td>\n",
       "      <td>14.5000</td>\n",
       "      <td>7.2500</td>\n",
       "      <td>88.0</td>\n",
       "    </tr>\n",
       "    <tr>\n",
       "      <th>1</th>\n",
       "      <td>2</td>\n",
       "      <td>1</td>\n",
       "      <td>2</td>\n",
       "      <td>1</td>\n",
       "      <td>38.0</td>\n",
       "      <td>3</td>\n",
       "      <td>2</td>\n",
       "      <td>71.2833</td>\n",
       "      <td>2</td>\n",
       "      <td>2</td>\n",
       "      <td>1</td>\n",
       "      <td>4</td>\n",
       "      <td>38.0</td>\n",
       "      <td>2</td>\n",
       "      <td>1</td>\n",
       "      <td>142.5666</td>\n",
       "      <td>142.5666</td>\n",
       "      <td>76.0</td>\n",
       "    </tr>\n",
       "    <tr>\n",
       "      <th>2</th>\n",
       "      <td>3</td>\n",
       "      <td>3</td>\n",
       "      <td>3</td>\n",
       "      <td>1</td>\n",
       "      <td>26.0</td>\n",
       "      <td>3</td>\n",
       "      <td>1</td>\n",
       "      <td>7.9250</td>\n",
       "      <td>1</td>\n",
       "      <td>1</td>\n",
       "      <td>1</td>\n",
       "      <td>1</td>\n",
       "      <td>78.0</td>\n",
       "      <td>9</td>\n",
       "      <td>3</td>\n",
       "      <td>7.9250</td>\n",
       "      <td>7.9250</td>\n",
       "      <td>78.0</td>\n",
       "    </tr>\n",
       "    <tr>\n",
       "      <th>3</th>\n",
       "      <td>4</td>\n",
       "      <td>1</td>\n",
       "      <td>2</td>\n",
       "      <td>1</td>\n",
       "      <td>35.0</td>\n",
       "      <td>3</td>\n",
       "      <td>2</td>\n",
       "      <td>53.1000</td>\n",
       "      <td>2</td>\n",
       "      <td>1</td>\n",
       "      <td>1</td>\n",
       "      <td>4</td>\n",
       "      <td>35.0</td>\n",
       "      <td>2</td>\n",
       "      <td>1</td>\n",
       "      <td>106.2000</td>\n",
       "      <td>53.1000</td>\n",
       "      <td>70.0</td>\n",
       "    </tr>\n",
       "    <tr>\n",
       "      <th>4</th>\n",
       "      <td>5</td>\n",
       "      <td>3</td>\n",
       "      <td>4</td>\n",
       "      <td>2</td>\n",
       "      <td>35.0</td>\n",
       "      <td>3</td>\n",
       "      <td>1</td>\n",
       "      <td>8.0500</td>\n",
       "      <td>1</td>\n",
       "      <td>1</td>\n",
       "      <td>0</td>\n",
       "      <td>1</td>\n",
       "      <td>105.0</td>\n",
       "      <td>12</td>\n",
       "      <td>6</td>\n",
       "      <td>8.0500</td>\n",
       "      <td>8.0500</td>\n",
       "      <td>140.0</td>\n",
       "    </tr>\n",
       "  </tbody>\n",
       "</table>\n",
       "</div>"
      ],
      "text/plain": [
       "   PassengerId  Pclass  Title  Sex   Age  Age Group  Fam size     Fare  \\\n",
       "0            1       3      4    2  22.0          3         2   7.2500   \n",
       "1            2       1      2    1  38.0          3         2  71.2833   \n",
       "2            3       3      3    1  26.0          3         1   7.9250   \n",
       "3            4       1      2    1  35.0          3         2  53.1000   \n",
       "4            5       3      4    2  35.0          3         1   8.0500   \n",
       "\n",
       "   Fare Group  Embarked  Survived  Deck  class_age  class_title  class_gen  \\\n",
       "0           1         1         0     1       66.0           12          6   \n",
       "1           2         2         1     4       38.0            2          1   \n",
       "2           1         1         1     1       78.0            9          3   \n",
       "3           2         1         1     4       35.0            2          1   \n",
       "4           1         1         0     1      105.0           12          6   \n",
       "\n",
       "   fam_fare   em_fare  title_age  \n",
       "0   14.5000    7.2500       88.0  \n",
       "1  142.5666  142.5666       76.0  \n",
       "2    7.9250    7.9250       78.0  \n",
       "3  106.2000   53.1000       70.0  \n",
       "4    8.0500    8.0500      140.0  "
      ]
     },
     "execution_count": 36,
     "metadata": {},
     "output_type": "execute_result"
    }
   ],
   "source": [
    "data.head()"
   ]
  },
  {
   "cell_type": "code",
   "execution_count": 37,
   "metadata": {
    "execution": {
     "iopub.execute_input": "2021-01-16T17:47:24.817855Z",
     "iopub.status.busy": "2021-01-16T17:47:24.816960Z",
     "iopub.status.idle": "2021-01-16T17:47:24.822349Z",
     "shell.execute_reply": "2021-01-16T17:47:24.822973Z"
    },
    "papermill": {
     "duration": 0.071936,
     "end_time": "2021-01-16T17:47:24.823138",
     "exception": false,
     "start_time": "2021-01-16T17:47:24.751202",
     "status": "completed"
    },
    "tags": []
   },
   "outputs": [],
   "source": [
    "data.drop(['Age', 'Fare'], axis=1, inplace=True)\n",
    "test.drop(['Age', 'Fare'], axis=1, inplace=True)"
   ]
  },
  {
   "cell_type": "code",
   "execution_count": 38,
   "metadata": {
    "execution": {
     "iopub.execute_input": "2021-01-16T17:47:24.949302Z",
     "iopub.status.busy": "2021-01-16T17:47:24.948528Z",
     "iopub.status.idle": "2021-01-16T17:47:24.951252Z",
     "shell.execute_reply": "2021-01-16T17:47:24.951751Z"
    },
    "papermill": {
     "duration": 0.067419,
     "end_time": "2021-01-16T17:47:24.951905",
     "exception": false,
     "start_time": "2021-01-16T17:47:24.884486",
     "status": "completed"
    },
    "tags": []
   },
   "outputs": [
    {
     "name": "stdout",
     "output_type": "stream",
     "text": [
      "['PassengerId', 'Pclass', 'Title', 'Sex', 'Age Group', 'Fam size', 'Fare Group', 'Embarked', 'Survived', 'Deck', 'class_age', 'class_title', 'class_gen', 'fam_fare', 'em_fare', 'title_age']\n"
     ]
    }
   ],
   "source": [
    "cols = data.columns.tolist()\n",
    "print(cols)"
   ]
  },
  {
   "cell_type": "code",
   "execution_count": 39,
   "metadata": {
    "execution": {
     "iopub.execute_input": "2021-01-16T17:47:25.073746Z",
     "iopub.status.busy": "2021-01-16T17:47:25.073147Z",
     "iopub.status.idle": "2021-01-16T17:47:25.100207Z",
     "shell.execute_reply": "2021-01-16T17:47:25.100699Z"
    },
    "papermill": {
     "duration": 0.089185,
     "end_time": "2021-01-16T17:47:25.100862",
     "exception": false,
     "start_time": "2021-01-16T17:47:25.011677",
     "status": "completed"
    },
    "tags": []
   },
   "outputs": [],
   "source": [
    "from sklearn.preprocessing import MinMaxScaler\n",
    "scaler = MinMaxScaler()\n",
    "col_lst = [ 'Pclass', 'Title', 'Age Group', 'Fam size', 'Fare Group', 'Embarked',\n",
    "           'Deck', 'class_age', 'class_title', 'class_gen', 'fam_fare', 'em_fare', 'title_age']\n",
    "\n",
    "data[col_lst] = scaler.fit_transform(data[col_lst])\n",
    "test[col_lst] = scaler.fit_transform(test[col_lst])"
   ]
  },
  {
   "cell_type": "code",
   "execution_count": 40,
   "metadata": {
    "execution": {
     "iopub.execute_input": "2021-01-16T17:47:25.220417Z",
     "iopub.status.busy": "2021-01-16T17:47:25.219777Z",
     "iopub.status.idle": "2021-01-16T17:47:25.227925Z",
     "shell.execute_reply": "2021-01-16T17:47:25.228445Z"
    },
    "papermill": {
     "duration": 0.069363,
     "end_time": "2021-01-16T17:47:25.228576",
     "exception": false,
     "start_time": "2021-01-16T17:47:25.159213",
     "status": "completed"
    },
    "tags": []
   },
   "outputs": [],
   "source": [
    "data = data[['Pclass', 'Title', 'Sex', 'Age Group', 'Fam size', 'Fare Group', 'Embarked', 'Deck', 'class_age', \n",
    "             'class_title', 'class_gen', 'fam_fare', 'em_fare', 'title_age', 'Survived']]\n",
    "\n",
    "test = test[['PassengerId', 'Pclass', 'Title', 'Sex', 'Age Group', 'Fam size', 'Fare Group', 'Embarked', 'Deck', 'class_age', \n",
    "             'class_title', 'class_gen', 'fam_fare', 'em_fare', 'title_age']]"
   ]
  },
  {
   "cell_type": "code",
   "execution_count": 41,
   "metadata": {
    "execution": {
     "iopub.execute_input": "2021-01-16T17:47:25.348814Z",
     "iopub.status.busy": "2021-01-16T17:47:25.348209Z",
     "iopub.status.idle": "2021-01-16T17:47:26.236474Z",
     "shell.execute_reply": "2021-01-16T17:47:26.237014Z"
    },
    "papermill": {
     "duration": 0.950199,
     "end_time": "2021-01-16T17:47:26.237156",
     "exception": false,
     "start_time": "2021-01-16T17:47:25.286957",
     "status": "completed"
    },
    "tags": []
   },
   "outputs": [
    {
     "data": {
      "text/plain": [
       "<matplotlib.axes._subplots.AxesSubplot at 0x7fae37a1b790>"
      ]
     },
     "execution_count": 41,
     "metadata": {},
     "output_type": "execute_result"
    },
    {
     "data": {
      "image/png": "[encoded data removed]",
      "text/plain": [
       "<Figure size 1080x720 with 2 Axes>"
      ]
     },
     "metadata": {
      "needs_background": "light"
     },
     "output_type": "display_data"
    }
   ],
   "source": [
    "corr_mat = data.corr()\n",
    "np.tril(np.ones(corr_mat.shape)).astype(np.bool)[0:5,0:5]\n",
    "df_lt = corr_mat.where(np.tril(np.ones(corr_mat.shape)).astype(np.bool))\n",
    "plt.subplots(figsize=(15,10))\n",
    "sns.heatmap(df_lt, annot=True, cmap=\"Spectral\", fmt='.2g')"
   ]
  },
  {
   "cell_type": "markdown",
   "metadata": {
    "papermill": {
     "duration": 0.064089,
     "end_time": "2021-01-16T17:47:26.363320",
     "exception": false,
     "start_time": "2021-01-16T17:47:26.299231",
     "status": "completed"
    },
    "tags": []
   },
   "source": [
    "# ************************************"
   ]
  },
  {
   "cell_type": "code",
   "execution_count": 42,
   "metadata": {
    "execution": {
     "iopub.execute_input": "2021-01-16T17:47:26.491761Z",
     "iopub.status.busy": "2021-01-16T17:47:26.490775Z",
     "iopub.status.idle": "2021-01-16T17:47:26.499977Z",
     "shell.execute_reply": "2021-01-16T17:47:26.500485Z"
    },
    "papermill": {
     "duration": 0.075286,
     "end_time": "2021-01-16T17:47:26.500632",
     "exception": false,
     "start_time": "2021-01-16T17:47:26.425346",
     "status": "completed"
    },
    "tags": []
   },
   "outputs": [],
   "source": [
    "from sklearn.model_selection import train_test_split, StratifiedKFold, cross_val_score, cross_val_predict, GridSearchCV\n",
    "from sklearn.metrics import accuracy_score\n",
    "#GridSearchCV - for selecting the best hyperparameter\n",
    "#StratifiedKFold  - divide categories in a uniform way\n",
    "from sklearn.metrics import accuracy_score\n",
    "\n",
    "kf = StratifiedKFold(n_splits=10, shuffle=True, random_state=1)  #StratifiedKFold\n",
    "\n",
    "#data_1 = data.drop('PassengerId', axis=1).copy()\n",
    "test_2 = test.drop('PassengerId', axis=1).copy()\n",
    "\n",
    "target = data['Survived']\n",
    "train = data.drop('Survived', axis=1)"
   ]
  },
  {
   "cell_type": "code",
   "execution_count": 43,
   "metadata": {
    "execution": {
     "iopub.execute_input": "2021-01-16T17:47:26.631354Z",
     "iopub.status.busy": "2021-01-16T17:47:26.629919Z",
     "iopub.status.idle": "2021-01-16T17:47:26.635183Z",
     "shell.execute_reply": "2021-01-16T17:47:26.634678Z"
    },
    "papermill": {
     "duration": 0.07316,
     "end_time": "2021-01-16T17:47:26.635294",
     "exception": false,
     "start_time": "2021-01-16T17:47:26.562134",
     "status": "completed"
    },
    "tags": []
   },
   "outputs": [
    {
     "data": {
      "text/plain": [
       "((623, 14), (268, 14), (623,), (268,))"
      ]
     },
     "execution_count": 43,
     "metadata": {},
     "output_type": "execute_result"
    }
   ],
   "source": [
    "X_train, X_test, y_train, y_test = train_test_split(train, target, test_size=0.3, random_state=1)   #Split the train data set\n",
    "#train_test_split(X, Y, test_size, random_state)\n",
    "# X,Y - dataset we are going to use for splitiing\n",
    "#test_size - define the size of the test set\n",
    "X_train.shape, X_test.shape, y_train.shape, y_test.shape"
   ]
  },
  {
   "cell_type": "code",
   "execution_count": 44,
   "metadata": {
    "execution": {
     "iopub.execute_input": "2021-01-16T17:47:26.766258Z",
     "iopub.status.busy": "2021-01-16T17:47:26.765361Z",
     "iopub.status.idle": "2021-01-16T17:47:26.904200Z",
     "shell.execute_reply": "2021-01-16T17:47:26.904702Z"
    },
    "papermill": {
     "duration": 0.207533,
     "end_time": "2021-01-16T17:47:26.904876",
     "exception": false,
     "start_time": "2021-01-16T17:47:26.697343",
     "status": "completed"
    },
    "tags": []
   },
   "outputs": [],
   "source": [
    "from sklearn.linear_model import LogisticRegression\n",
    "from sklearn.ensemble import RandomForestClassifier\n",
    "from sklearn.svm import SVC\n",
    "from sklearn.neighbors import KNeighborsClassifier\n",
    "from sklearn.tree import DecisionTreeClassifier"
   ]
  },
  {
   "cell_type": "code",
   "execution_count": 45,
   "metadata": {
    "execution": {
     "iopub.execute_input": "2021-01-16T17:47:27.035333Z",
     "iopub.status.busy": "2021-01-16T17:47:27.034451Z",
     "iopub.status.idle": "2021-01-16T17:47:27.037113Z",
     "shell.execute_reply": "2021-01-16T17:47:27.037552Z"
    },
    "papermill": {
     "duration": 0.069692,
     "end_time": "2021-01-16T17:47:27.037689",
     "exception": false,
     "start_time": "2021-01-16T17:47:26.967997",
     "status": "completed"
    },
    "tags": []
   },
   "outputs": [],
   "source": [
    "#model.fit() is used to train the model on data\n",
    "#if y_test is the real labels for X_test, model.score(X_test, y_test)  compare predictions of the model against the real labels\n",
    "#model.score(X_train, y_train) measure the accuracy of the model against training data.This has nothing to do with test data\n",
    "#model.predict(X_test) predict labels for test set \n",
    "#model.score(X_test, y_test) and model.predict(X_test), accuracy_score(y_test, prediction) are both same"
   ]
  },
  {
   "cell_type": "code",
   "execution_count": 46,
   "metadata": {
    "execution": {
     "iopub.execute_input": "2021-01-16T17:47:27.166443Z",
     "iopub.status.busy": "2021-01-16T17:47:27.165465Z",
     "iopub.status.idle": "2021-01-16T17:47:27.170698Z",
     "shell.execute_reply": "2021-01-16T17:47:27.171216Z"
    },
    "papermill": {
     "duration": 0.071436,
     "end_time": "2021-01-16T17:47:27.171363",
     "exception": false,
     "start_time": "2021-01-16T17:47:27.099927",
     "status": "completed"
    },
    "tags": []
   },
   "outputs": [],
   "source": [
    "def model_score(model, X_train=X_train, X_test=X_test, y_train=y_train, y_test=y_test):\n",
    "    model.fit(X_train, y_train)\n",
    "    model_score = model.score(X_test, y_test)*100\n",
    "    \n",
    "    return model_score"
   ]
  },
  {
   "cell_type": "code",
   "execution_count": 47,
   "metadata": {
    "execution": {
     "iopub.execute_input": "2021-01-16T17:47:27.300786Z",
     "iopub.status.busy": "2021-01-16T17:47:27.300188Z",
     "iopub.status.idle": "2021-01-16T17:47:27.307596Z",
     "shell.execute_reply": "2021-01-16T17:47:27.307100Z"
    },
    "papermill": {
     "duration": 0.073851,
     "end_time": "2021-01-16T17:47:27.307707",
     "exception": false,
     "start_time": "2021-01-16T17:47:27.233856",
     "status": "completed"
    },
    "tags": []
   },
   "outputs": [],
   "source": [
    "def cv_score(model):\n",
    "    cv_score = cross_val_score(model, train, target, cv=kf, scoring='accuracy')\n",
    "    return cv_score.mean()*100"
   ]
  },
  {
   "cell_type": "code",
   "execution_count": 48,
   "metadata": {
    "execution": {
     "iopub.execute_input": "2021-01-16T17:47:27.448908Z",
     "iopub.status.busy": "2021-01-16T17:47:27.447867Z",
     "iopub.status.idle": "2021-01-16T17:47:31.007983Z",
     "shell.execute_reply": "2021-01-16T17:47:31.007195Z"
    },
    "papermill": {
     "duration": 3.636274,
     "end_time": "2021-01-16T17:47:31.008134",
     "exception": false,
     "start_time": "2021-01-16T17:47:27.371860",
     "status": "completed"
    },
    "tags": []
   },
   "outputs": [
    {
     "name": "stdout",
     "output_type": "stream",
     "text": [
      "Cross val score for LR  :  81.37203495630463\n",
      "LR Score :  77.61194029850746 \n",
      "\n",
      "Cross val score for RF  :  82.71785268414482\n",
      "RF Score :  77.61194029850746 \n",
      "\n",
      "Cross val score for SVC :  81.93258426966293\n",
      "SVC Score :  75.74626865671642 \n",
      "\n",
      "Cross val score for KNN :  81.14856429463171\n",
      "KNN Score :  75.3731343283582 \n",
      "\n",
      "Cross val score for DT  :  78.7952559300874\n",
      "DT Score :  78.73134328358209 \n",
      "\n"
     ]
    }
   ],
   "source": [
    "\n",
    "print('Cross val score for LR  : ', cv_score(LogisticRegression()))\n",
    "print('LR Score : ', model_score(LogisticRegression()),'\\n')\n",
    "\n",
    "print('Cross val score for RF  : ', cv_score(RandomForestClassifier(n_estimators=100, max_depth=7, min_samples_split=2, \n",
    "                                                    min_samples_leaf=6, max_features='auto', random_state=1)))\n",
    "print('RF Score : ', model_score(RandomForestClassifier(n_estimators=100, max_depth=15, min_samples_split=6, min_samples_leaf=6, \n",
    "                                    max_features='auto', random_state=1)), '\\n')\n",
    "\n",
    "print('Cross val score for SVC : ', cv_score(SVC(C=30)))\n",
    "print('SVC Score : ', model_score(SVC(C=30)), '\\n')\n",
    "\n",
    "print('Cross val score for KNN : ', cv_score(KNeighborsClassifier(n_neighbors=50)))\n",
    "print('KNN Score : ', model_score(KNeighborsClassifier(n_neighbors=50)), '\\n')\n",
    "\n",
    "print('Cross val score for DT  : ', cv_score(DecisionTreeClassifier(max_depth=12, min_samples_split=2, random_state=1)))\n",
    "print('DT Score : ', model_score(DecisionTreeClassifier(max_depth=12, min_samples_split=2, random_state=1)), '\\n')\n",
    "\n",
    "#Cross val score for LR  :  81.48189762796505\n",
    "#LR Score :  77.98507462686567 \n",
    "\n",
    "#Cross val score for RF  :  83.2808988764045\n",
    "#RF Score :  77.61194029850746 \n",
    "\n",
    "#Cross val score for SVC :  81.82272159800249\n",
    "#SVC Score :  77.98507462686567 \n",
    "\n",
    "#Cross val score for KNN :  80.13732833957553\n",
    "#KNN Score :  75.74626865671642 \n",
    "\n",
    "#Cross val score for DT  :  82.61173533083645\n",
    "#DT Score :  79.1044776119403"
   ]
  },
  {
   "cell_type": "code",
   "execution_count": 49,
   "metadata": {
    "execution": {
     "iopub.execute_input": "2021-01-16T17:47:31.159354Z",
     "iopub.status.busy": "2021-01-16T17:47:31.158411Z",
     "iopub.status.idle": "2021-01-16T17:47:32.903553Z",
     "shell.execute_reply": "2021-01-16T17:47:32.904273Z"
    },
    "papermill": {
     "duration": 1.830579,
     "end_time": "2021-01-16T17:47:32.904443",
     "exception": false,
     "start_time": "2021-01-16T17:47:31.073864",
     "status": "completed"
    },
    "tags": []
   },
   "outputs": [
    {
     "name": "stdout",
     "output_type": "stream",
     "text": [
      "[0]\tvalidation_0-error:0.10433\tvalidation_0-logloss:0.68697\tvalidation_1-error:0.22388\tvalidation_1-logloss:0.68884\n",
      "Multiple eval metrics have been passed: 'validation_1-logloss' will be used for early stopping.\n",
      "\n",
      "Will train until validation_1-logloss hasn't improved in 15 rounds.\n",
      "[1]\tvalidation_0-error:0.10433\tvalidation_0-logloss:0.68093\tvalidation_1-error:0.22388\tvalidation_1-logloss:0.68465\n",
      "[2]\tvalidation_0-error:0.10433\tvalidation_0-logloss:0.67501\tvalidation_1-error:0.22388\tvalidation_1-logloss:0.68054\n",
      "[3]\tvalidation_0-error:0.10433\tvalidation_0-logloss:0.66919\tvalidation_1-error:0.22388\tvalidation_1-logloss:0.67650\n",
      "[4]\tvalidation_0-error:0.10433\tvalidation_0-logloss:0.66348\tvalidation_1-error:0.22388\tvalidation_1-logloss:0.67258\n",
      "[5]\tvalidation_0-error:0.10433\tvalidation_0-logloss:0.65787\tvalidation_1-error:0.22015\tvalidation_1-logloss:0.66871\n",
      "[6]\tvalidation_0-error:0.10433\tvalidation_0-logloss:0.65237\tvalidation_1-error:0.22015\tvalidation_1-logloss:0.66493\n",
      "[7]\tvalidation_0-error:0.10433\tvalidation_0-logloss:0.64696\tvalidation_1-error:0.22015\tvalidation_1-logloss:0.66126\n",
      "[8]\tvalidation_0-error:0.10433\tvalidation_0-logloss:0.64165\tvalidation_1-error:0.22015\tvalidation_1-logloss:0.65768\n",
      "[9]\tvalidation_0-error:0.10433\tvalidation_0-logloss:0.63643\tvalidation_1-error:0.22015\tvalidation_1-logloss:0.65414\n",
      "[10]\tvalidation_0-error:0.10433\tvalidation_0-logloss:0.63130\tvalidation_1-error:0.22015\tvalidation_1-logloss:0.65068\n",
      "[11]\tvalidation_0-error:0.10433\tvalidation_0-logloss:0.62626\tvalidation_1-error:0.22015\tvalidation_1-logloss:0.64732\n",
      "[12]\tvalidation_0-error:0.10433\tvalidation_0-logloss:0.62131\tvalidation_1-error:0.22015\tvalidation_1-logloss:0.64401\n",
      "[13]\tvalidation_0-error:0.10433\tvalidation_0-logloss:0.61645\tvalidation_1-error:0.22015\tvalidation_1-logloss:0.64080\n",
      "[14]\tvalidation_0-error:0.10112\tvalidation_0-logloss:0.61164\tvalidation_1-error:0.22388\tvalidation_1-logloss:0.63767\n",
      "[15]\tvalidation_0-error:0.10112\tvalidation_0-logloss:0.60693\tvalidation_1-error:0.22388\tvalidation_1-logloss:0.63459\n",
      "[16]\tvalidation_0-error:0.10112\tvalidation_0-logloss:0.60230\tvalidation_1-error:0.22388\tvalidation_1-logloss:0.63160\n",
      "[17]\tvalidation_0-error:0.10112\tvalidation_0-logloss:0.59773\tvalidation_1-error:0.22388\tvalidation_1-logloss:0.62865\n",
      "[18]\tvalidation_0-error:0.10273\tvalidation_0-logloss:0.59325\tvalidation_1-error:0.22388\tvalidation_1-logloss:0.62574\n",
      "[19]\tvalidation_0-error:0.10273\tvalidation_0-logloss:0.58884\tvalidation_1-error:0.22388\tvalidation_1-logloss:0.62294\n",
      "[20]\tvalidation_0-error:0.10273\tvalidation_0-logloss:0.58451\tvalidation_1-error:0.22388\tvalidation_1-logloss:0.62013\n",
      "[21]\tvalidation_0-error:0.10273\tvalidation_0-logloss:0.58024\tvalidation_1-error:0.22388\tvalidation_1-logloss:0.61744\n",
      "[22]\tvalidation_0-error:0.10273\tvalidation_0-logloss:0.57605\tvalidation_1-error:0.22388\tvalidation_1-logloss:0.61482\n",
      "[23]\tvalidation_0-error:0.10273\tvalidation_0-logloss:0.57192\tvalidation_1-error:0.22388\tvalidation_1-logloss:0.61221\n",
      "[24]\tvalidation_0-error:0.10273\tvalidation_0-logloss:0.56786\tvalidation_1-error:0.22388\tvalidation_1-logloss:0.60966\n",
      "[25]\tvalidation_0-error:0.10273\tvalidation_0-logloss:0.56386\tvalidation_1-error:0.22388\tvalidation_1-logloss:0.60720\n",
      "[26]\tvalidation_0-error:0.10273\tvalidation_0-logloss:0.55993\tvalidation_1-error:0.22388\tvalidation_1-logloss:0.60480\n",
      "[27]\tvalidation_0-error:0.10273\tvalidation_0-logloss:0.55606\tvalidation_1-error:0.22388\tvalidation_1-logloss:0.60241\n",
      "[28]\tvalidation_0-error:0.10273\tvalidation_0-logloss:0.55225\tvalidation_1-error:0.22388\tvalidation_1-logloss:0.60009\n",
      "[29]\tvalidation_0-error:0.10273\tvalidation_0-logloss:0.54850\tvalidation_1-error:0.22388\tvalidation_1-logloss:0.59780\n",
      "[30]\tvalidation_0-error:0.10273\tvalidation_0-logloss:0.54482\tvalidation_1-error:0.22388\tvalidation_1-logloss:0.59559\n",
      "[31]\tvalidation_0-error:0.10273\tvalidation_0-logloss:0.54118\tvalidation_1-error:0.22388\tvalidation_1-logloss:0.59341\n",
      "[32]\tvalidation_0-error:0.10273\tvalidation_0-logloss:0.53761\tvalidation_1-error:0.22388\tvalidation_1-logloss:0.59126\n",
      "[33]\tvalidation_0-error:0.10273\tvalidation_0-logloss:0.53409\tvalidation_1-error:0.22388\tvalidation_1-logloss:0.58919\n",
      "[34]\tvalidation_0-error:0.10273\tvalidation_0-logloss:0.53062\tvalidation_1-error:0.22388\tvalidation_1-logloss:0.58715\n",
      "[35]\tvalidation_0-error:0.10273\tvalidation_0-logloss:0.52724\tvalidation_1-error:0.22388\tvalidation_1-logloss:0.58512\n",
      "[36]\tvalidation_0-error:0.10273\tvalidation_0-logloss:0.52382\tvalidation_1-error:0.22388\tvalidation_1-logloss:0.58322\n",
      "[37]\tvalidation_0-error:0.10273\tvalidation_0-logloss:0.52045\tvalidation_1-error:0.22388\tvalidation_1-logloss:0.58135\n",
      "[38]\tvalidation_0-error:0.10273\tvalidation_0-logloss:0.51721\tvalidation_1-error:0.22388\tvalidation_1-logloss:0.57943\n",
      "[39]\tvalidation_0-error:0.10273\tvalidation_0-logloss:0.51394\tvalidation_1-error:0.22388\tvalidation_1-logloss:0.57776\n",
      "[40]\tvalidation_0-error:0.10273\tvalidation_0-logloss:0.51074\tvalidation_1-error:0.22388\tvalidation_1-logloss:0.57596\n",
      "[41]\tvalidation_0-error:0.10273\tvalidation_0-logloss:0.50762\tvalidation_1-error:0.22388\tvalidation_1-logloss:0.57430\n",
      "[42]\tvalidation_0-error:0.10273\tvalidation_0-logloss:0.50448\tvalidation_1-error:0.22388\tvalidation_1-logloss:0.57273\n",
      "[43]\tvalidation_0-error:0.10273\tvalidation_0-logloss:0.50143\tvalidation_1-error:0.22388\tvalidation_1-logloss:0.57107\n",
      "[44]\tvalidation_0-error:0.10273\tvalidation_0-logloss:0.49838\tvalidation_1-error:0.22388\tvalidation_1-logloss:0.56957\n",
      "[45]\tvalidation_0-error:0.10273\tvalidation_0-logloss:0.49546\tvalidation_1-error:0.22388\tvalidation_1-logloss:0.56790\n",
      "[46]\tvalidation_0-error:0.10273\tvalidation_0-logloss:0.49251\tvalidation_1-error:0.22388\tvalidation_1-logloss:0.56646\n",
      "[47]\tvalidation_0-error:0.10273\tvalidation_0-logloss:0.48960\tvalidation_1-error:0.22388\tvalidation_1-logloss:0.56498\n",
      "[48]\tvalidation_0-error:0.10273\tvalidation_0-logloss:0.48673\tvalidation_1-error:0.22388\tvalidation_1-logloss:0.56359\n",
      "[49]\tvalidation_0-error:0.10273\tvalidation_0-logloss:0.48398\tvalidation_1-error:0.22388\tvalidation_1-logloss:0.56209\n",
      "[50]\tvalidation_0-error:0.10273\tvalidation_0-logloss:0.48119\tvalidation_1-error:0.22388\tvalidation_1-logloss:0.56079\n",
      "[51]\tvalidation_0-error:0.10273\tvalidation_0-logloss:0.47844\tvalidation_1-error:0.22388\tvalidation_1-logloss:0.55940\n",
      "[52]\tvalidation_0-error:0.10273\tvalidation_0-logloss:0.47573\tvalidation_1-error:0.22388\tvalidation_1-logloss:0.55818\n",
      "[53]\tvalidation_0-error:0.10273\tvalidation_0-logloss:0.47308\tvalidation_1-error:0.22388\tvalidation_1-logloss:0.55673\n",
      "[54]\tvalidation_0-error:0.10273\tvalidation_0-logloss:0.47041\tvalidation_1-error:0.22388\tvalidation_1-logloss:0.55543\n",
      "[55]\tvalidation_0-error:0.10273\tvalidation_0-logloss:0.46768\tvalidation_1-error:0.22388\tvalidation_1-logloss:0.55412\n",
      "[56]\tvalidation_0-error:0.10273\tvalidation_0-logloss:0.46498\tvalidation_1-error:0.22388\tvalidation_1-logloss:0.55276\n",
      "[57]\tvalidation_0-error:0.10273\tvalidation_0-logloss:0.46231\tvalidation_1-error:0.22388\tvalidation_1-logloss:0.55156\n",
      "[58]\tvalidation_0-error:0.10112\tvalidation_0-logloss:0.45984\tvalidation_1-error:0.22388\tvalidation_1-logloss:0.55028\n",
      "[59]\tvalidation_0-error:0.09952\tvalidation_0-logloss:0.45723\tvalidation_1-error:0.22015\tvalidation_1-logloss:0.54909\n",
      "[60]\tvalidation_0-error:0.09952\tvalidation_0-logloss:0.45459\tvalidation_1-error:0.22015\tvalidation_1-logloss:0.54769\n",
      "[61]\tvalidation_0-error:0.09791\tvalidation_0-logloss:0.45213\tvalidation_1-error:0.22388\tvalidation_1-logloss:0.54639\n",
      "[62]\tvalidation_0-error:0.09791\tvalidation_0-logloss:0.44964\tvalidation_1-error:0.22388\tvalidation_1-logloss:0.54524\n",
      "[63]\tvalidation_0-error:0.09791\tvalidation_0-logloss:0.44709\tvalidation_1-error:0.22388\tvalidation_1-logloss:0.54400\n",
      "[64]\tvalidation_0-error:0.09791\tvalidation_0-logloss:0.44472\tvalidation_1-error:0.22388\tvalidation_1-logloss:0.54273\n",
      "[65]\tvalidation_0-error:0.09791\tvalidation_0-logloss:0.44223\tvalidation_1-error:0.22388\tvalidation_1-logloss:0.54155\n",
      "[66]\tvalidation_0-error:0.09791\tvalidation_0-logloss:0.43997\tvalidation_1-error:0.22388\tvalidation_1-logloss:0.54059\n",
      "[67]\tvalidation_0-error:0.09791\tvalidation_0-logloss:0.43768\tvalidation_1-error:0.22388\tvalidation_1-logloss:0.53936\n",
      "[68]\tvalidation_0-error:0.09791\tvalidation_0-logloss:0.43540\tvalidation_1-error:0.22388\tvalidation_1-logloss:0.53827\n",
      "[69]\tvalidation_0-error:0.09791\tvalidation_0-logloss:0.43318\tvalidation_1-error:0.22388\tvalidation_1-logloss:0.53715\n",
      "[70]\tvalidation_0-error:0.09791\tvalidation_0-logloss:0.43103\tvalidation_1-error:0.22388\tvalidation_1-logloss:0.53627\n",
      "[71]\tvalidation_0-error:0.09791\tvalidation_0-logloss:0.42884\tvalidation_1-error:0.22388\tvalidation_1-logloss:0.53519\n",
      "[72]\tvalidation_0-error:0.09791\tvalidation_0-logloss:0.42668\tvalidation_1-error:0.22388\tvalidation_1-logloss:0.53420\n",
      "[73]\tvalidation_0-error:0.09791\tvalidation_0-logloss:0.42457\tvalidation_1-error:0.22388\tvalidation_1-logloss:0.53315\n",
      "[74]\tvalidation_0-error:0.09791\tvalidation_0-logloss:0.42255\tvalidation_1-error:0.22388\tvalidation_1-logloss:0.53236\n",
      "[75]\tvalidation_0-error:0.09791\tvalidation_0-logloss:0.42046\tvalidation_1-error:0.22388\tvalidation_1-logloss:0.53134\n",
      "[76]\tvalidation_0-error:0.09791\tvalidation_0-logloss:0.41838\tvalidation_1-error:0.22388\tvalidation_1-logloss:0.53044\n",
      "[77]\tvalidation_0-error:0.09791\tvalidation_0-logloss:0.41636\tvalidation_1-error:0.22388\tvalidation_1-logloss:0.52949\n",
      "[78]\tvalidation_0-error:0.09791\tvalidation_0-logloss:0.41440\tvalidation_1-error:0.22388\tvalidation_1-logloss:0.52860\n",
      "[79]\tvalidation_0-error:0.09470\tvalidation_0-logloss:0.41241\tvalidation_1-error:0.22015\tvalidation_1-logloss:0.52775\n",
      "[80]\tvalidation_0-error:0.09470\tvalidation_0-logloss:0.41049\tvalidation_1-error:0.22015\tvalidation_1-logloss:0.52684\n",
      "[81]\tvalidation_0-error:0.09470\tvalidation_0-logloss:0.40862\tvalidation_1-error:0.22015\tvalidation_1-logloss:0.52604\n",
      "[82]\tvalidation_0-error:0.09470\tvalidation_0-logloss:0.40676\tvalidation_1-error:0.22015\tvalidation_1-logloss:0.52522\n",
      "[83]\tvalidation_0-error:0.09470\tvalidation_0-logloss:0.40490\tvalidation_1-error:0.22015\tvalidation_1-logloss:0.52455\n",
      "[84]\tvalidation_0-error:0.09470\tvalidation_0-logloss:0.40306\tvalidation_1-error:0.22015\tvalidation_1-logloss:0.52375\n",
      "[85]\tvalidation_0-error:0.09470\tvalidation_0-logloss:0.40117\tvalidation_1-error:0.22015\tvalidation_1-logloss:0.52301\n",
      "[86]\tvalidation_0-error:0.09470\tvalidation_0-logloss:0.39940\tvalidation_1-error:0.22015\tvalidation_1-logloss:0.52227\n",
      "[87]\tvalidation_0-error:0.09470\tvalidation_0-logloss:0.39754\tvalidation_1-error:0.22015\tvalidation_1-logloss:0.52159\n",
      "[88]\tvalidation_0-error:0.09470\tvalidation_0-logloss:0.39579\tvalidation_1-error:0.22015\tvalidation_1-logloss:0.52091\n",
      "[89]\tvalidation_0-error:0.09470\tvalidation_0-logloss:0.39400\tvalidation_1-error:0.22015\tvalidation_1-logloss:0.52022\n",
      "[90]\tvalidation_0-error:0.09470\tvalidation_0-logloss:0.39228\tvalidation_1-error:0.22015\tvalidation_1-logloss:0.51964\n",
      "[91]\tvalidation_0-error:0.09470\tvalidation_0-logloss:0.39061\tvalidation_1-error:0.22015\tvalidation_1-logloss:0.51901\n",
      "[92]\tvalidation_0-error:0.09470\tvalidation_0-logloss:0.38888\tvalidation_1-error:0.22015\tvalidation_1-logloss:0.51835\n",
      "[93]\tvalidation_0-error:0.09470\tvalidation_0-logloss:0.38725\tvalidation_1-error:0.22015\tvalidation_1-logloss:0.51772\n",
      "[94]\tvalidation_0-error:0.09470\tvalidation_0-logloss:0.38557\tvalidation_1-error:0.22015\tvalidation_1-logloss:0.51705\n",
      "[95]\tvalidation_0-error:0.09470\tvalidation_0-logloss:0.38395\tvalidation_1-error:0.22015\tvalidation_1-logloss:0.51649\n",
      "[96]\tvalidation_0-error:0.09310\tvalidation_0-logloss:0.38238\tvalidation_1-error:0.22015\tvalidation_1-logloss:0.51593\n",
      "[97]\tvalidation_0-error:0.09310\tvalidation_0-logloss:0.38080\tvalidation_1-error:0.22015\tvalidation_1-logloss:0.51539\n",
      "[98]\tvalidation_0-error:0.09310\tvalidation_0-logloss:0.37911\tvalidation_1-error:0.22015\tvalidation_1-logloss:0.51491\n",
      "[99]\tvalidation_0-error:0.09310\tvalidation_0-logloss:0.37744\tvalidation_1-error:0.21642\tvalidation_1-logloss:0.51427\n",
      "[100]\tvalidation_0-error:0.09149\tvalidation_0-logloss:0.37590\tvalidation_1-error:0.21642\tvalidation_1-logloss:0.51383\n",
      "[101]\tvalidation_0-error:0.09149\tvalidation_0-logloss:0.37430\tvalidation_1-error:0.21642\tvalidation_1-logloss:0.51326\n",
      "[102]\tvalidation_0-error:0.09149\tvalidation_0-logloss:0.37272\tvalidation_1-error:0.21642\tvalidation_1-logloss:0.51267\n",
      "[103]\tvalidation_0-error:0.09149\tvalidation_0-logloss:0.37118\tvalidation_1-error:0.21642\tvalidation_1-logloss:0.51214\n",
      "[104]\tvalidation_0-error:0.09149\tvalidation_0-logloss:0.36963\tvalidation_1-error:0.21642\tvalidation_1-logloss:0.51162\n",
      "[105]\tvalidation_0-error:0.09149\tvalidation_0-logloss:0.36802\tvalidation_1-error:0.21642\tvalidation_1-logloss:0.51113\n",
      "[106]\tvalidation_0-error:0.09149\tvalidation_0-logloss:0.36661\tvalidation_1-error:0.21642\tvalidation_1-logloss:0.51064\n",
      "[107]\tvalidation_0-error:0.09149\tvalidation_0-logloss:0.36511\tvalidation_1-error:0.21642\tvalidation_1-logloss:0.51018\n",
      "[108]\tvalidation_0-error:0.08989\tvalidation_0-logloss:0.36350\tvalidation_1-error:0.21269\tvalidation_1-logloss:0.50970\n",
      "[109]\tvalidation_0-error:0.08989\tvalidation_0-logloss:0.36201\tvalidation_1-error:0.21269\tvalidation_1-logloss:0.50926\n",
      "[110]\tvalidation_0-error:0.08989\tvalidation_0-logloss:0.36043\tvalidation_1-error:0.21269\tvalidation_1-logloss:0.50881\n",
      "[111]\tvalidation_0-error:0.08989\tvalidation_0-logloss:0.35886\tvalidation_1-error:0.21269\tvalidation_1-logloss:0.50834\n",
      "[112]\tvalidation_0-error:0.08989\tvalidation_0-logloss:0.35736\tvalidation_1-error:0.21269\tvalidation_1-logloss:0.50789\n",
      "[113]\tvalidation_0-error:0.08989\tvalidation_0-logloss:0.35582\tvalidation_1-error:0.21269\tvalidation_1-logloss:0.50751\n",
      "[114]\tvalidation_0-error:0.08989\tvalidation_0-logloss:0.35432\tvalidation_1-error:0.21269\tvalidation_1-logloss:0.50706\n",
      "[115]\tvalidation_0-error:0.08989\tvalidation_0-logloss:0.35283\tvalidation_1-error:0.21269\tvalidation_1-logloss:0.50665\n",
      "[116]\tvalidation_0-error:0.08989\tvalidation_0-logloss:0.35135\tvalidation_1-error:0.21269\tvalidation_1-logloss:0.50613\n",
      "[117]\tvalidation_0-error:0.08989\tvalidation_0-logloss:0.34991\tvalidation_1-error:0.21269\tvalidation_1-logloss:0.50570\n",
      "[118]\tvalidation_0-error:0.08989\tvalidation_0-logloss:0.34844\tvalidation_1-error:0.21269\tvalidation_1-logloss:0.50531\n",
      "[119]\tvalidation_0-error:0.08989\tvalidation_0-logloss:0.34706\tvalidation_1-error:0.21269\tvalidation_1-logloss:0.50500\n",
      "[120]\tvalidation_0-error:0.08989\tvalidation_0-logloss:0.34567\tvalidation_1-error:0.21269\tvalidation_1-logloss:0.50466\n",
      "[121]\tvalidation_0-error:0.08828\tvalidation_0-logloss:0.34425\tvalidation_1-error:0.20896\tvalidation_1-logloss:0.50418\n",
      "[122]\tvalidation_0-error:0.08828\tvalidation_0-logloss:0.34285\tvalidation_1-error:0.20896\tvalidation_1-logloss:0.50392\n",
      "[123]\tvalidation_0-error:0.08668\tvalidation_0-logloss:0.34146\tvalidation_1-error:0.20896\tvalidation_1-logloss:0.50358\n",
      "[124]\tvalidation_0-error:0.08668\tvalidation_0-logloss:0.34012\tvalidation_1-error:0.20896\tvalidation_1-logloss:0.50323\n",
      "[125]\tvalidation_0-error:0.08668\tvalidation_0-logloss:0.33874\tvalidation_1-error:0.20896\tvalidation_1-logloss:0.50285\n",
      "[126]\tvalidation_0-error:0.08668\tvalidation_0-logloss:0.33740\tvalidation_1-error:0.20896\tvalidation_1-logloss:0.50260\n",
      "[127]\tvalidation_0-error:0.08668\tvalidation_0-logloss:0.33608\tvalidation_1-error:0.20896\tvalidation_1-logloss:0.50227\n",
      "[128]\tvalidation_0-error:0.08668\tvalidation_0-logloss:0.33478\tvalidation_1-error:0.20896\tvalidation_1-logloss:0.50202\n",
      "[129]\tvalidation_0-error:0.08507\tvalidation_0-logloss:0.33350\tvalidation_1-error:0.20896\tvalidation_1-logloss:0.50171\n",
      "[130]\tvalidation_0-error:0.08507\tvalidation_0-logloss:0.33221\tvalidation_1-error:0.20896\tvalidation_1-logloss:0.50145\n",
      "[131]\tvalidation_0-error:0.08507\tvalidation_0-logloss:0.33100\tvalidation_1-error:0.21269\tvalidation_1-logloss:0.50095\n",
      "[132]\tvalidation_0-error:0.08507\tvalidation_0-logloss:0.32976\tvalidation_1-error:0.21269\tvalidation_1-logloss:0.50065\n",
      "[133]\tvalidation_0-error:0.08507\tvalidation_0-logloss:0.32859\tvalidation_1-error:0.21269\tvalidation_1-logloss:0.50018\n",
      "[134]\tvalidation_0-error:0.08507\tvalidation_0-logloss:0.32737\tvalidation_1-error:0.21269\tvalidation_1-logloss:0.49989\n",
      "[135]\tvalidation_0-error:0.08507\tvalidation_0-logloss:0.32617\tvalidation_1-error:0.21269\tvalidation_1-logloss:0.49953\n",
      "[136]\tvalidation_0-error:0.08668\tvalidation_0-logloss:0.32494\tvalidation_1-error:0.21269\tvalidation_1-logloss:0.49927\n",
      "[137]\tvalidation_0-error:0.08507\tvalidation_0-logloss:0.32377\tvalidation_1-error:0.21269\tvalidation_1-logloss:0.49893\n",
      "[138]\tvalidation_0-error:0.08507\tvalidation_0-logloss:0.32261\tvalidation_1-error:0.21269\tvalidation_1-logloss:0.49871\n",
      "[139]\tvalidation_0-error:0.08507\tvalidation_0-logloss:0.32151\tvalidation_1-error:0.21269\tvalidation_1-logloss:0.49832\n",
      "[140]\tvalidation_0-error:0.08507\tvalidation_0-logloss:0.32034\tvalidation_1-error:0.21269\tvalidation_1-logloss:0.49814\n",
      "[141]\tvalidation_0-error:0.08507\tvalidation_0-logloss:0.31925\tvalidation_1-error:0.21269\tvalidation_1-logloss:0.49779\n",
      "[142]\tvalidation_0-error:0.08507\tvalidation_0-logloss:0.31810\tvalidation_1-error:0.21269\tvalidation_1-logloss:0.49762\n",
      "[143]\tvalidation_0-error:0.08507\tvalidation_0-logloss:0.31699\tvalidation_1-error:0.21269\tvalidation_1-logloss:0.49734\n",
      "[144]\tvalidation_0-error:0.08507\tvalidation_0-logloss:0.31592\tvalidation_1-error:0.21269\tvalidation_1-logloss:0.49695\n",
      "[145]\tvalidation_0-error:0.08507\tvalidation_0-logloss:0.31483\tvalidation_1-error:0.21269\tvalidation_1-logloss:0.49683\n",
      "[146]\tvalidation_0-error:0.08507\tvalidation_0-logloss:0.31373\tvalidation_1-error:0.21269\tvalidation_1-logloss:0.49665\n",
      "[147]\tvalidation_0-error:0.08507\tvalidation_0-logloss:0.31265\tvalidation_1-error:0.21269\tvalidation_1-logloss:0.49633\n",
      "[148]\tvalidation_0-error:0.08507\tvalidation_0-logloss:0.31159\tvalidation_1-error:0.21269\tvalidation_1-logloss:0.49606\n",
      "[149]\tvalidation_0-error:0.08507\tvalidation_0-logloss:0.31056\tvalidation_1-error:0.21269\tvalidation_1-logloss:0.49602\n",
      "[150]\tvalidation_0-error:0.08507\tvalidation_0-logloss:0.30947\tvalidation_1-error:0.21269\tvalidation_1-logloss:0.49584\n",
      "[151]\tvalidation_0-error:0.08507\tvalidation_0-logloss:0.30846\tvalidation_1-error:0.21269\tvalidation_1-logloss:0.49557\n",
      "[152]\tvalidation_0-error:0.08507\tvalidation_0-logloss:0.30744\tvalidation_1-error:0.21269\tvalidation_1-logloss:0.49565\n",
      "[153]\tvalidation_0-error:0.08507\tvalidation_0-logloss:0.30647\tvalidation_1-error:0.21269\tvalidation_1-logloss:0.49535\n",
      "[154]\tvalidation_0-error:0.08507\tvalidation_0-logloss:0.30548\tvalidation_1-error:0.21269\tvalidation_1-logloss:0.49533\n",
      "[155]\tvalidation_0-error:0.08507\tvalidation_0-logloss:0.30453\tvalidation_1-error:0.21269\tvalidation_1-logloss:0.49500\n",
      "[156]\tvalidation_0-error:0.08507\tvalidation_0-logloss:0.30355\tvalidation_1-error:0.21269\tvalidation_1-logloss:0.49506\n",
      "[157]\tvalidation_0-error:0.08507\tvalidation_0-logloss:0.30260\tvalidation_1-error:0.21269\tvalidation_1-logloss:0.49482\n",
      "[158]\tvalidation_0-error:0.08507\tvalidation_0-logloss:0.30165\tvalidation_1-error:0.21269\tvalidation_1-logloss:0.49474\n",
      "[159]\tvalidation_0-error:0.08507\tvalidation_0-logloss:0.30072\tvalidation_1-error:0.21269\tvalidation_1-logloss:0.49461\n",
      "[160]\tvalidation_0-error:0.08507\tvalidation_0-logloss:0.29975\tvalidation_1-error:0.21269\tvalidation_1-logloss:0.49474\n",
      "[161]\tvalidation_0-error:0.08507\tvalidation_0-logloss:0.29885\tvalidation_1-error:0.21269\tvalidation_1-logloss:0.49442\n",
      "[162]\tvalidation_0-error:0.08507\tvalidation_0-logloss:0.29793\tvalidation_1-error:0.21269\tvalidation_1-logloss:0.49433\n",
      "[163]\tvalidation_0-error:0.08507\tvalidation_0-logloss:0.29702\tvalidation_1-error:0.21269\tvalidation_1-logloss:0.49427\n",
      "[164]\tvalidation_0-error:0.08507\tvalidation_0-logloss:0.29612\tvalidation_1-error:0.21269\tvalidation_1-logloss:0.49417\n",
      "[165]\tvalidation_0-error:0.08507\tvalidation_0-logloss:0.29514\tvalidation_1-error:0.21269\tvalidation_1-logloss:0.49426\n",
      "[166]\tvalidation_0-error:0.08507\tvalidation_0-logloss:0.29419\tvalidation_1-error:0.21269\tvalidation_1-logloss:0.49416\n",
      "[167]\tvalidation_0-error:0.08507\tvalidation_0-logloss:0.29323\tvalidation_1-error:0.21269\tvalidation_1-logloss:0.49412\n",
      "[168]\tvalidation_0-error:0.08507\tvalidation_0-logloss:0.29228\tvalidation_1-error:0.21269\tvalidation_1-logloss:0.49420\n",
      "[169]\tvalidation_0-error:0.08507\tvalidation_0-logloss:0.29137\tvalidation_1-error:0.21269\tvalidation_1-logloss:0.49406\n",
      "[170]\tvalidation_0-error:0.08507\tvalidation_0-logloss:0.29043\tvalidation_1-error:0.21269\tvalidation_1-logloss:0.49398\n",
      "[171]\tvalidation_0-error:0.08507\tvalidation_0-logloss:0.28947\tvalidation_1-error:0.21269\tvalidation_1-logloss:0.49394\n",
      "[172]\tvalidation_0-error:0.08507\tvalidation_0-logloss:0.28852\tvalidation_1-error:0.21269\tvalidation_1-logloss:0.49407\n",
      "[173]\tvalidation_0-error:0.08507\tvalidation_0-logloss:0.28763\tvalidation_1-error:0.21269\tvalidation_1-logloss:0.49398\n",
      "[174]\tvalidation_0-error:0.08507\tvalidation_0-logloss:0.28672\tvalidation_1-error:0.21269\tvalidation_1-logloss:0.49393\n",
      "[175]\tvalidation_0-error:0.08507\tvalidation_0-logloss:0.28585\tvalidation_1-error:0.21269\tvalidation_1-logloss:0.49393\n",
      "[176]\tvalidation_0-error:0.08507\tvalidation_0-logloss:0.28501\tvalidation_1-error:0.21269\tvalidation_1-logloss:0.49400\n",
      "[177]\tvalidation_0-error:0.08507\tvalidation_0-logloss:0.28412\tvalidation_1-error:0.21269\tvalidation_1-logloss:0.49403\n",
      "[178]\tvalidation_0-error:0.08507\tvalidation_0-logloss:0.28329\tvalidation_1-error:0.21269\tvalidation_1-logloss:0.49400\n",
      "[179]\tvalidation_0-error:0.08507\tvalidation_0-logloss:0.28243\tvalidation_1-error:0.21269\tvalidation_1-logloss:0.49395\n",
      "[180]\tvalidation_0-error:0.08507\tvalidation_0-logloss:0.28158\tvalidation_1-error:0.21269\tvalidation_1-logloss:0.49391\n",
      "[181]\tvalidation_0-error:0.08507\tvalidation_0-logloss:0.28077\tvalidation_1-error:0.21269\tvalidation_1-logloss:0.49384\n",
      "[182]\tvalidation_0-error:0.08507\tvalidation_0-logloss:0.27994\tvalidation_1-error:0.21269\tvalidation_1-logloss:0.49382\n",
      "[183]\tvalidation_0-error:0.08507\tvalidation_0-logloss:0.27909\tvalidation_1-error:0.21269\tvalidation_1-logloss:0.49366\n",
      "[184]\tvalidation_0-error:0.08507\tvalidation_0-logloss:0.27827\tvalidation_1-error:0.21269\tvalidation_1-logloss:0.49379\n",
      "[185]\tvalidation_0-error:0.08507\tvalidation_0-logloss:0.27743\tvalidation_1-error:0.21269\tvalidation_1-logloss:0.49364\n",
      "[186]\tvalidation_0-error:0.08507\tvalidation_0-logloss:0.27661\tvalidation_1-error:0.21269\tvalidation_1-logloss:0.49343\n",
      "[187]\tvalidation_0-error:0.08026\tvalidation_0-logloss:0.27580\tvalidation_1-error:0.21269\tvalidation_1-logloss:0.49326\n",
      "[188]\tvalidation_0-error:0.08026\tvalidation_0-logloss:0.27498\tvalidation_1-error:0.21269\tvalidation_1-logloss:0.49306\n",
      "[189]\tvalidation_0-error:0.08026\tvalidation_0-logloss:0.27416\tvalidation_1-error:0.21269\tvalidation_1-logloss:0.49286\n",
      "[190]\tvalidation_0-error:0.08026\tvalidation_0-logloss:0.27338\tvalidation_1-error:0.21269\tvalidation_1-logloss:0.49286\n",
      "[191]\tvalidation_0-error:0.08026\tvalidation_0-logloss:0.27258\tvalidation_1-error:0.21269\tvalidation_1-logloss:0.49267\n",
      "[192]\tvalidation_0-error:0.08026\tvalidation_0-logloss:0.27173\tvalidation_1-error:0.21269\tvalidation_1-logloss:0.49266\n",
      "[193]\tvalidation_0-error:0.08026\tvalidation_0-logloss:0.27092\tvalidation_1-error:0.21269\tvalidation_1-logloss:0.49281\n",
      "[194]\tvalidation_0-error:0.08026\tvalidation_0-logloss:0.27006\tvalidation_1-error:0.21269\tvalidation_1-logloss:0.49280\n",
      "[195]\tvalidation_0-error:0.08026\tvalidation_0-logloss:0.26922\tvalidation_1-error:0.21269\tvalidation_1-logloss:0.49279\n",
      "[196]\tvalidation_0-error:0.08026\tvalidation_0-logloss:0.26836\tvalidation_1-error:0.21269\tvalidation_1-logloss:0.49279\n",
      "[197]\tvalidation_0-error:0.08186\tvalidation_0-logloss:0.26756\tvalidation_1-error:0.21269\tvalidation_1-logloss:0.49288\n",
      "[198]\tvalidation_0-error:0.08186\tvalidation_0-logloss:0.26670\tvalidation_1-error:0.21269\tvalidation_1-logloss:0.49297\n",
      "[199]\tvalidation_0-error:0.08186\tvalidation_0-logloss:0.26590\tvalidation_1-error:0.21269\tvalidation_1-logloss:0.49306\n",
      "[200]\tvalidation_0-error:0.08026\tvalidation_0-logloss:0.26512\tvalidation_1-error:0.21269\tvalidation_1-logloss:0.49330\n",
      "[201]\tvalidation_0-error:0.08026\tvalidation_0-logloss:0.26432\tvalidation_1-error:0.21269\tvalidation_1-logloss:0.49330\n",
      "[202]\tvalidation_0-error:0.08026\tvalidation_0-logloss:0.26349\tvalidation_1-error:0.21269\tvalidation_1-logloss:0.49342\n",
      "[203]\tvalidation_0-error:0.08026\tvalidation_0-logloss:0.26276\tvalidation_1-error:0.21642\tvalidation_1-logloss:0.49358\n",
      "[204]\tvalidation_0-error:0.08026\tvalidation_0-logloss:0.26194\tvalidation_1-error:0.21642\tvalidation_1-logloss:0.49371\n",
      "[205]\tvalidation_0-error:0.08026\tvalidation_0-logloss:0.26118\tvalidation_1-error:0.21642\tvalidation_1-logloss:0.49389\n",
      "[206]\tvalidation_0-error:0.08026\tvalidation_0-logloss:0.26040\tvalidation_1-error:0.21269\tvalidation_1-logloss:0.49416\n",
      "[207]\tvalidation_0-error:0.08026\tvalidation_0-logloss:0.25960\tvalidation_1-error:0.21269\tvalidation_1-logloss:0.49429\n",
      "Stopping. Best iteration:\n",
      "[192]\tvalidation_0-error:0.08026\tvalidation_0-logloss:0.27173\tvalidation_1-error:0.21269\tvalidation_1-logloss:0.49266\n",
      "\n"
     ]
    },
    {
     "data": {
      "text/plain": [
       "XGBClassifier(base_score=0.5, booster='gbtree', colsample_bylevel=1,\n",
       "              colsample_bynode=1, colsample_bytree=1,\n",
       "              eval_metric=['error', 'logloss'], gamma=0, gpu_id=-1,\n",
       "              importance_type='gain', interaction_constraints='',\n",
       "              learning_rate=0.01, max_delta_step=0, max_depth=15,\n",
       "              min_child_weight=1, missing=nan, monotone_constraints='()',\n",
       "              n_estimators=500, n_jobs=0, num_parallel_tree=1, random_state=42,\n",
       "              reg_alpha=0, reg_lambda=1, scale_pos_weight=1, subsample=1,\n",
       "              tree_method='exact', validate_parameters=1, verbosity=None)"
      ]
     },
     "execution_count": 49,
     "metadata": {},
     "output_type": "execute_result"
    }
   ],
   "source": [
    "from xgboost import XGBClassifier, plot_importance\n",
    "\n",
    "xgbc = XGBClassifier(max_depth=15, min_child_weight=1, n_estimators=500, random_state=42, learning_rate=0.01,  \n",
    "                     eval_metric=[\"error\", \"logloss\"])\n",
    "xgbc.fit(X_train,y_train, early_stopping_rounds=15, eval_set=[(X_train, y_train), (X_test, y_test)], verbose=True)   \n",
    "# verbose=True print val_error and logloss for each iteration"
   ]
  },
  {
   "cell_type": "code",
   "execution_count": 50,
   "metadata": {
    "execution": {
     "iopub.execute_input": "2021-01-16T17:47:33.222287Z",
     "iopub.status.busy": "2021-01-16T17:47:33.221447Z",
     "iopub.status.idle": "2021-01-16T17:47:33.227412Z",
     "shell.execute_reply": "2021-01-16T17:47:33.228040Z"
    },
    "papermill": {
     "duration": 0.146663,
     "end_time": "2021-01-16T17:47:33.228201",
     "exception": false,
     "start_time": "2021-01-16T17:47:33.081538",
     "status": "completed"
    },
    "tags": []
   },
   "outputs": [],
   "source": [
    "y_pred_xgbc = xgbc.predict(X_test)"
   ]
  },
  {
   "cell_type": "code",
   "execution_count": 51,
   "metadata": {
    "execution": {
     "iopub.execute_input": "2021-01-16T17:47:33.545716Z",
     "iopub.status.busy": "2021-01-16T17:47:33.544749Z",
     "iopub.status.idle": "2021-01-16T17:47:33.557075Z",
     "shell.execute_reply": "2021-01-16T17:47:33.556412Z"
    },
    "papermill": {
     "duration": 0.156608,
     "end_time": "2021-01-16T17:47:33.557205",
     "exception": false,
     "start_time": "2021-01-16T17:47:33.400597",
     "status": "completed"
    },
    "tags": []
   },
   "outputs": [
    {
     "name": "stdout",
     "output_type": "stream",
     "text": [
      "Train Prediction Score 91.97431781701445\n",
      "Test Prediction Score 78.73134328358209\n"
     ]
    }
   ],
   "source": [
    "xgbc_score_train = xgbc.score(X_train, y_train)\n",
    "print(\"Train Prediction Score\",xgbc_score_train*100)\n",
    "xgbc_score_test = accuracy_score(y_test,y_pred_xgbc)    # or print(xgbc.score(X_test, y_test)*100)\n",
    "print(\"Test Prediction Score\",xgbc_score_test*100)"
   ]
  },
  {
   "cell_type": "code",
   "execution_count": 52,
   "metadata": {
    "execution": {
     "iopub.execute_input": "2021-01-16T17:47:33.886438Z",
     "iopub.status.busy": "2021-01-16T17:47:33.881137Z",
     "iopub.status.idle": "2021-01-16T17:47:34.228585Z",
     "shell.execute_reply": "2021-01-16T17:47:34.229055Z"
    },
    "papermill": {
     "duration": 0.498199,
     "end_time": "2021-01-16T17:47:34.229209",
     "exception": false,
     "start_time": "2021-01-16T17:47:33.731010",
     "status": "completed"
    },
    "tags": []
   },
   "outputs": [
    {
     "data": {
      "image/png": "[encoded data removed]",
      "text/plain": [
       "<Figure size 432x288 with 1 Axes>"
      ]
     },
     "metadata": {
      "needs_background": "light"
     },
     "output_type": "display_data"
    },
    {
     "data": {
      "image/png": "[encoded data removed]",
      "text/plain": [
       "<Figure size 432x288 with 1 Axes>"
      ]
     },
     "metadata": {
      "needs_background": "light"
     },
     "output_type": "display_data"
    }
   ],
   "source": [
    "results = xgbc.evals_result()\n",
    "epochs = len(results['validation_0']['error'])\n",
    "x_axis = range(0, epochs)\n",
    "# plot log loss\n",
    "fig, ax = plt.subplots()\n",
    "ax.plot(x_axis, results['validation_0']['logloss'], label='Train')\n",
    "ax.plot(x_axis, results['validation_1']['logloss'], label='Test')\n",
    "ax.legend()\n",
    "plt.ylabel('Log Loss')\n",
    "plt.title('XGBoost Log Loss')\n",
    "plt.show()\n",
    "# plot classification error\n",
    "fig, ax = plt.subplots()\n",
    "ax.plot(x_axis, results['validation_0']['error'], label='Train')\n",
    "ax.plot(x_axis, results['validation_1']['error'], label='Test')\n",
    "ax.legend()\n",
    "plt.ylabel('Classification Error')\n",
    "plt.title('XGBoost Classification Error')\n",
    "plt.show()"
   ]
  },
  {
   "cell_type": "code",
   "execution_count": 53,
   "metadata": {
    "execution": {
     "iopub.execute_input": "2021-01-16T17:47:34.502107Z",
     "iopub.status.busy": "2021-01-16T17:47:34.501491Z",
     "iopub.status.idle": "2021-01-16T17:47:34.814278Z",
     "shell.execute_reply": "2021-01-16T17:47:34.814768Z"
    },
    "papermill": {
     "duration": 0.450808,
     "end_time": "2021-01-16T17:47:34.814927",
     "exception": false,
     "start_time": "2021-01-16T17:47:34.364119",
     "status": "completed"
    },
    "tags": []
   },
   "outputs": [
    {
     "data": {
      "image/png": "[encoded data removed]",
      "text/plain": [
       "<Figure size 432x288 with 1 Axes>"
      ]
     },
     "metadata": {
      "needs_background": "light"
     },
     "output_type": "display_data"
    }
   ],
   "source": [
    "plot_importance(xgbc)\n",
    "plt.show()"
   ]
  },
  {
   "cell_type": "code",
   "execution_count": 54,
   "metadata": {
    "execution": {
     "iopub.execute_input": "2021-01-16T17:47:35.090127Z",
     "iopub.status.busy": "2021-01-16T17:47:35.089463Z",
     "iopub.status.idle": "2021-01-16T17:47:35.723614Z",
     "shell.execute_reply": "2021-01-16T17:47:35.724275Z"
    },
    "papermill": {
     "duration": 0.773634,
     "end_time": "2021-01-16T17:47:35.724468",
     "exception": false,
     "start_time": "2021-01-16T17:47:34.950834",
     "status": "completed"
    },
    "tags": []
   },
   "outputs": [],
   "source": [
    "xgbc.fit(train, target)\n",
    "\n",
    "prediction_xgbc = xgbc.predict(test_2)"
   ]
  },
  {
   "cell_type": "code",
   "execution_count": 55,
   "metadata": {
    "execution": {
     "iopub.execute_input": "2021-01-16T17:47:36.066392Z",
     "iopub.status.busy": "2021-01-16T17:47:36.065743Z",
     "iopub.status.idle": "2021-01-16T17:47:36.308216Z",
     "shell.execute_reply": "2021-01-16T17:47:36.308729Z"
    },
    "papermill": {
     "duration": 0.407432,
     "end_time": "2021-01-16T17:47:36.308873",
     "exception": false,
     "start_time": "2021-01-16T17:47:35.901441",
     "status": "completed"
    },
    "tags": []
   },
   "outputs": [],
   "source": [
    "model=RandomForestClassifier(n_estimators=100, max_depth=7, min_samples_split=2,min_samples_leaf=6, max_features='auto', random_state=1)\n",
    "model.fit(train, target)\n",
    "\n",
    "pred_dt = model.predict(test_2)"
   ]
  },
  {
   "cell_type": "code",
   "execution_count": 56,
   "metadata": {
    "execution": {
     "iopub.execute_input": "2021-01-16T17:47:36.588939Z",
     "iopub.status.busy": "2021-01-16T17:47:36.588269Z",
     "iopub.status.idle": "2021-01-16T17:47:36.631373Z",
     "shell.execute_reply": "2021-01-16T17:47:36.630775Z"
    },
    "papermill": {
     "duration": 0.185825,
     "end_time": "2021-01-16T17:47:36.631495",
     "exception": false,
     "start_time": "2021-01-16T17:47:36.445670",
     "status": "completed"
    },
    "tags": []
   },
   "outputs": [],
   "source": [
    "model = SVC( C=20)\n",
    "model.fit(train, target)\n",
    "\n",
    "pred_svc = model.predict(test_2)"
   ]
  },
  {
   "cell_type": "code",
   "execution_count": 57,
   "metadata": {
    "execution": {
     "iopub.execute_input": "2021-01-16T17:47:36.911632Z",
     "iopub.status.busy": "2021-01-16T17:47:36.910964Z",
     "iopub.status.idle": "2021-01-16T17:47:37.146773Z",
     "shell.execute_reply": "2021-01-16T17:47:37.146120Z"
    },
    "papermill": {
     "duration": 0.378651,
     "end_time": "2021-01-16T17:47:37.146914",
     "exception": false,
     "start_time": "2021-01-16T17:47:36.768263",
     "status": "completed"
    },
    "tags": []
   },
   "outputs": [],
   "source": [
    "sub = pd.DataFrame({'PassengerId': test['PassengerId'], 'Survived':pred_svc})\n",
    "sub.to_csv('sample_submission.csv', index=False)"
   ]
  },
  {
   "cell_type": "code",
   "execution_count": null,
   "metadata": {
    "papermill": {
     "duration": 0.136119,
     "end_time": "2021-01-16T17:47:37.418839",
     "exception": false,
     "start_time": "2021-01-16T17:47:37.282720",
     "status": "completed"
    },
    "tags": []
   },
   "outputs": [],
   "source": []
  }
 ],
 "metadata": {
  "kernelspec": {
   "display_name": "Python 3",
   "language": "python",
   "name": "python3"
  },
  "language_info": {
   "codemirror_mode": {
    "name": "ipython",
    "version": 3
   },
   "file_extension": ".py",
   "mimetype": "text/x-python",
   "name": "python",
   "nbconvert_exporter": "python",
   "pygments_lexer": "ipython3",
   "version": "3.7.6"
  },
  "papermill": {
   "duration": 26.869996,
   "end_time": "2021-01-16T17:47:37.662761",
   "environment_variables": {},
   "exception": null,
   "input_path": "__notebook__.ipynb",
   "output_path": "__notebook__.ipynb",
   "parameters": {},
   "start_time": "2021-01-16T17:47:10.792765",
   "version": "2.1.0"
  }
 },
 "nbformat": 4,
 "nbformat_minor": 4
}
